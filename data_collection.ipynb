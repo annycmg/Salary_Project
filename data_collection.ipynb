{
 "metadata": {
  "language_info": {
   "codemirror_mode": {
    "name": "ipython",
    "version": 3
   },
   "file_extension": ".py",
   "mimetype": "text/x-python",
   "name": "python",
   "nbconvert_exporter": "python",
   "pygments_lexer": "ipython3",
   "version": "3.8.4"
  },
  "orig_nbformat": 2,
  "kernelspec": {
   "name": "python3",
   "display_name": "Python 3",
   "language": "python"
  }
 },
 "nbformat": 4,
 "nbformat_minor": 2,
 "cells": [
  {
   "cell_type": "code",
   "execution_count": 17,
   "metadata": {},
   "outputs": [],
   "source": [
    "import pandas as pd \n",
    "import numpy as np \n",
    "import matplotlib.pyplot as plt \n",
    "import statsmodels.api as sm \n",
    "import pickle\n",
    "\n",
    "from sklearn.model_selection import cross_val_score, train_test_split, GridSearchCV\n",
    "from sklearn.linear_model import LinearRegression, Lasso\n",
    "from sklearn.ensemble import RandomForestRegressor\n",
    "from sklearn.metrics import mean_absolute_error\n",
    "\n",
    "caminho = \"C:\\\\Users\\\\anny_\\\\Documents\\\\The_Glassdoor_Project\\\\\""
   ]
  },
  {
   "cell_type": "code",
   "execution_count": 18,
   "metadata": {},
   "outputs": [],
   "source": [
    "df = pd.read_csv(caminho + 'Output\\\\eda_data.csv')\n",
    "\n",
    "df_model = df[['med_salary','Rating', 'Size', 'Type of ownership', 'Industry', 'Sector', 'Revenue', 'num_competitors', 'Per Hour',    'Employer_Provided', 'State', 'age', 'python_yn', 'spark', 'aws', 'excel', 'Job_Simplif', 'Seniority', 'description_len']]\n",
    "df_dum = pd.get_dummies(df_model)"
   ]
  },
  {
   "cell_type": "code",
   "execution_count": 19,
   "metadata": {},
   "outputs": [],
   "source": [
    "# Train test\n",
    "X = df_dum.drop('med_salary', axis=1)\n",
    "y = df_dum.med_salary.values\n",
    "X_train, X_test, y_train, y_test = train_test_split(X, y, test_size=0.2, random_state=42)"
   ]
  },
  {
   "cell_type": "code",
   "execution_count": 20,
   "metadata": {},
   "outputs": [
    {
     "output_type": "execute_result",
     "data": {
      "text/plain": [
       ".619      0.536     -15.029       7.825\n",
       "Size_1001 to 5000 employees                           6.1423      3.881      1.583      0.114      -1.480      13.765\n",
       "Size_201 to 500 employees                             2.3816      3.836      0.621      0.535      -5.152       9.915\n",
       "Size_5001 to 10000 employees                         -3.9736      5.419     -0.733      0.464     -14.617       6.670\n",
       "Size_501 to 1000 employees                            1.7093      4.028      0.424      0.671      -6.202       9.621\n",
       "Size_51 to 200 employees                              4.6633      4.338      1.075      0.283      -3.855      13.182\n",
       "Size_Unknown                                         19.8685     14.001      1.419      0.156      -7.629      47.366\n",
       "Type of ownership_-1                                 13.1014      8.638      1.517      0.130      -3.862      30.065\n",
       "Type of ownership_College / University                7.0759     17.733      0.399      0.690     -27.751      41.903\n",
       "Type of ownership_Company - Private                   8.5816      5.249      1.635      0.103      -1.726      18.889\n",
       "Type of ownership_Company - Public                   12.9126      5.700      2.265      0.024       1.719      24.107\n",
       "Type of ownership_Government                        -18.6940     15.200     -1.230      0.219     -48.545      11.157\n",
       "Type of ownership_Hospital                           -6.0334      9.877     -0.611      0.542     -25.431      13.364\n",
       "Type of ownership_Nonprofit Organization             -9.1899      6.675     -1.377      0.169     -22.299       3.919\n",
       "Type of ownership_Other Organization                 -5.5673     14.383     -0.387      0.699     -33.814      22.680\n",
       "Type of ownership_School / School District           -7.0725     23.787     -0.297      0.766     -53.789      39.644\n",
       "Type of ownership_Subsidiary or Business Segment     12.6865      6.936      1.829      0.068      -0.936      26.309\n",
       "Type of ownership_Unknown                            34.0605     28.645      1.189      0.235     -22.195      90.316\n",
       "Industry_-1                                           5.4348      7.947      0.684      0.494     -10.172      21.042\n",
       "Industry_Accounting                                   1.8640     13.505      0.138      0.890     -24.658      28.386\n",
       "Industry_Advertising & Marketing                     12.1133      5.956      2.034      0.042       0.415      23.811\n",
       "Industry_Aerospace & Defense                          5.0632      3.092      1.638      0.102      -1.009      11.135\n",
       "Industry_Architectural & Engineering Services       -34.6613     15.829     -2.190      0.029     -65.749      -3.574\n",
       "Industry_Auctions & Galleries                         9.7467     22.892      0.426      0.670     -35.212      54.705\n",
       "Industry_Banks & Credit Unions                      -17.3156      8.062     -2.148      0.032     -33.148      -1.483\n",
       "Industry_Beauty & Personal Accessories Stores        15.8971     21.589      0.736      0.462     -26.503      58.297\n",
       "Industry_Biotech & Pharmaceuticals                    6.3211      2.048      3.087      0.002       2.299      10.343\n",
       "Industry_Brokerage Services                          27.1822     15.543      1.749      0.081      -3.344      57.708\n",
       "Industry_Colleges & Universities                     11.3230     13.029      0.869      0.385     -14.266      36.912\n",
       "Industry_Computer Hardware & Software                -0.6687      3.235     -0.207      0.836      -7.021       5.684\n",
       "Industry_Construction                               -14.6362     10.552     -1.387      0.166     -35.359       6.086\n",
       "Industry_Consulting                                  12.6970      5.907      2.149      0.032       1.096      24.299\n",
       "Industry_Consumer Product Rental                     -0.8486     12.998     -0.065      0.948     -26.375      24.678\n",
       "Industry_Consumer Products Manufacturing             14.1745      9.755      1.453      0.147      -4.984      33.333\n",
       "Industry_Department, Clothing, & Shoe Stores          3.7326     11.576      0.322      0.747     -19.002      26.467\n",
       "Industry_Education Training Services                -23.8871     12.551     -1.903      0.057     -48.536       0.762\n",
       "Industry_Energy                                      -3.1953      7.657     -0.417      0.677     -18.234      11.843\n",
       "Industry_Enterprise Software & Network Solutions      9.1056      3.593      2.534      0.012       2.049      16.162\n",
       "Industry_Farm Support Services                       -0.2884     12.661     -0.023      0.982     -25.154      24.577\n",
       "Industry_Federal Agencies                             7.1557      5.191      1.379      0.169      -3.039      17.350\n",
       "Industry_Financial Analytics & Research               0.4728      9.184      0.051      0.959     -17.564      18.509\n",
       "Industry_Financial Transaction Processing           -15.8830     12.876     -1.234      0.218     -41.171       9.405\n",
       "Industry_Food & Beverage Manufacturing               -4.2925     11.603     -0.370      0.712     -27.079      18.494\n",
       "Industry_Gambling                                    -9.4394      6.541     -1.443      0.149     -22.285       3.406\n",
       "Industry_Gas Stations                               -21.3496     15.305     -1.395      0.164     -51.408       8.709\n",
       "Industry_Health Care Products Manufacturing          19.3342     22.172      0.872      0.384     -24.209      62.877\n",
       "Industry_Health Care Services & Hospitals             5.7574      2.912      1.977      0.048       0.039      11.476\n",
       "Industry_Health, Beauty, & Fitness                   -3.9067     17.419     -0.224      0.823     -38.116      30.303\n",
       "Industry_IT Services                                  0.2536      3.464      0.073      0.942      -6.550       7.057\n",
       "Industry_Industrial Manufacturing                    -8.7432     13.161     -0.664      0.507     -34.589      17.103\n",
       "Industry_Insurance Agencies & Brokerages             -4.6388      6.980     -0.665      0.507     -18.347       9.069\n",
       "Industry_Insurance Carriers                           5.6869      4.485      1.268      0.205      -3.121      14.495\n",
       "Industry_Internet                                     1.0273      4.468      0.230      0.818      -7.748       9.802\n",
       "Industry_Investment Banking & Asset Management       37.0149     12.098      3.060      0.002      13.256      60.774\n",
       "Industry_K-12 Education                               9.8210     14.806      0.663      0.507     -19.256      38.898\n",
       "Industry_Lending                                     -2.0267      9.891     -0.205      0.838     -21.452      17.399\n",
       "Industry_Logistics & Supply Chain                    -0.9464     13.202     -0.072      0.943     -26.875      24.982\n",
       "Industry_Metals Brokers                              -6.7580     15.577     -0.434      0.665     -37.349      23.833\n",
       "Industry_Mining                                      -5.1588     17.965     -0.287      0.774     -40.441      30.123\n",
       "Industry_Motion Picture Production & Distribution    47.8638     19.599      2.442      0.015       9.373      86.355\n",
       "Industry_Other Retail Stores                         37.7926     21.578      1.751      0.080      -4.584      80.170\n",
       "Industry_Real Estate                                 -1.9604      4.925     -0.398      0.691     -11.633       7.712\n",
       "Industry_Religious Organizations                     26.4318     13.730      1.925      0.055      -0.534      53.397\n",
       "Industry_Research & Development                      -2.5221      6.537     -0.386      0.700     -15.360      10.315\n",
       "Industry_Security Services                           14.9338      9.777      1.527      0.127      -4.267      34.135\n",
       "Industry_Social Assistance                          -12.1231     11.797     -1.028      0.305     -35.292      11.046\n",
       "Industry_Sporting Goods Stores                      -37.5662     17.842     -2.105      0.036     -72.607      -2.525\n",
       "Industry_Staffing & Outsourcing                      -6.6450     10.961     -0.606      0.545     -28.172      14.882\n",
       "Industry_Stock Exchanges                            -16.3943      7.828     -2.094      0.037     -31.768      -1.020\n",
       "Industry_TV Broadcast & Cable Networks               -0.9112     15.562     -0.059      0.953     -31.474      29.652\n",
       "Industry_Telecommunications Manufacturing             4.5219     13.694      0.330      0.741     -22.372      31.415\n",
       "Industry_Telecommunications Services                 -0.2424     11.281     -0.021      0.983     -22.397      21.912\n",
       "Industry_Transportation Equipment Manufacturing     -21.5185     23.744     -0.906      0.365     -68.151      25.114\n",
       "Industry_Transportation Management                  -19.1028     13.967     -1.368      0.172     -46.534       8.328\n",
       "Industry_Travel Agencies                             -5.2851      5.230     -1.010      0.313     -15.557       4.987\n",
       "Industry_Trucking                                    24.3301     19.832      1.227      0.220     -14.619      63.279\n",
       "Industry_Video Games                                -31.4547     14.418     -2.182      0.030     -59.771      -3.138\n",
       "Industry_Wholesale                                   -0.8213     13.081     -0.063      0.950     -26.512      24.870\n",
       "Sector_-1                                             5.4348      7.947      0.684      0.494     -10.172      21.042\n",
       "Sector_Accounting & Legal                             1.8640     13.505      0.138      0.890     -24.658      28.386\n",
       "Sector_Aerospace & Defense                            5.0632      3.092      1.638      0.102      -1.009      11.135\n",
       "Sector_Agriculture & Forestry                        -0.2884     12.661     -0.023      0.982     -25.154      24.577\n",
       "Sector_Arts, Entertainment & Recreation              -9.4394      6.541     -1.443      0.149     -22.285       3.406\n",
       "Sector_Biotech & Pharmaceuticals                      6.3211      2.048      3.087      0.002       2.299      10.343\n",
       "Sector_Business Services                             -4.9057      4.201     -1.168      0.243     -13.157       3.345\n",
       "Sector_Construction, Repair & Maintenance           -14.6362     10.552     -1.387      0.166     -35.359       6.086\n",
       "Sector_Consumer Services                             -4.7553      9.439     -0.504      0.615     -23.292      13.782\n",
       "Sector_Education                                     -2.7431      6.852     -0.400      0.689     -16.199      10.713\n",
       "Sector_Finance                                       13.0503      4.519      2.888      0.004       4.176      21.924\n",
       "Sector_Government                                     7.1557      5.191      1.379      0.169      -3.039      17.350\n",
       "Sector_Health Care                                    5.7574      2.912      1.977      0.048       0.039      11.476\n",
       "Sector_Information Technology                         9.7177      2.772      3.506      0.000       4.275      15.161\n",
       "Sector_Insurance                                      1.0480      3.925      0.267      0.790      -6.660       8.756\n",
       "Sector_Manufacturing                                 -1.0454      6.937     -0.151      0.880     -14.668      12.578\n",
       "Sector_Media                                         15.4979      8.740      1.773      0.077      -1.667      32.663\n",
       "Sector_Mining & Metals                              -11.9169     10.737     -1.110      0.268     -33.004       9.170\n",
       "Sector_Non-Profit                                    14.3086      8.894      1.609      0.108      -3.158      31.775\n",
       "Sector_Oil, Gas, Energy & Utilities                  -3.1953      7.657     -0.417      0.677     -18.234      11.843\n",
       "Sector_Real Estate                                   -1.9604      4.925     -0.398      0.691     -11.633       7.712\n",
       "Sector_Retail                                         8.2533      7.154      1.154      0.249      -5.797      22.304\n",
       "Sector_Telecommunications                             4.2795      7.817      0.547      0.584     -11.072      19.631\n",
       "Sector_Transportation & Logistics                     4.2809      8.054      0.532      0.595     -11.536      20.098\n",
       "Sector_Travel & Tourism                              -5.2851      5.230     -1.010      0.313     -15.557       4.987\n",
       "Revenue_$1 to $2 billion (USD)                        2.8077      4.791      0.586      0.558      -6.602      12.218\n",
       "Revenue_$1 to $5 million (USD)                       -5.6785     10.979     -0.517      0.605     -27.240      15.883\n",
       "Revenue_$10 to $25 million (USD)                     -4.5917      5.231     -0.878      0.380     -14.865       5.682\n",
       "Revenue_$10+ billion (USD)                           10.1045      6.419      1.574      0.116      -2.502      22.711\n",
       "Revenue_$100 to $500 million (USD)                   -4.6098      4.062     -1.135      0.257     -12.587       3.367\n",
       "Revenue_$2 to $5 billion (USD)                       -0.3155      6.290     -0.050      0.960     -12.669      12.038\n",
       "Revenue_$25 to $50 million (USD)                     -5.1831      5.379     -0.964      0.336     -15.748       5.382\n",
       "Revenue_$5 to $10 billion (USD)                       7.7130      7.817      0.987      0.324      -7.638      23.064\n",
       "Revenue_$5 to $10 million (USD)                      30.7925      8.317      3.703      0.000      14.459      47.126\n",
       "Revenue_$50 to $100 million (USD)                     5.5982      4.958      1.129      0.259      -4.139      15.335\n",
       "Revenue_$500 million to $1 billion (USD)             -1.4591      5.303     -0.275      0.783     -11.874       8.956\n",
       "Revenue_-1                                           13.1014      8.638      1.517      0.130      -3.862      30.065\n",
       "Revenue_Less than $1 million (USD)                   -5.7913     15.198     -0.381      0.703     -35.638      24.056\n",
       "Revenue_Unknown / Non-Applicable                     -0.6271      3.049     -0.206      0.837      -6.615       5.361\n",
       "State_ AL                                            -6.4810     10.477     -0.619      0.536     -27.056      14.094\n",
       "State_ AZ                                           -14.8036      8.627     -1.716      0.087     -31.746       2.138\n",
       "State_ CA                                            26.6319      3.157      8.437      0.000      20.433      32.831\n",
       "State_ CO                                             8.1743      8.305      0.984      0.325      -8.136      24.485\n",
       "State_ CT                                           -23.6669     11.386     -2.079      0.038     -46.028      -1.305\n",
       "State_ DC                                            13.2495      8.064      1.643      0.101      -2.587      29.086\n",
       "State_ DE                                             9.2190     13.856      0.665      0.506     -17.994      36.432\n",
       "State_ FL                                           -15.6452      7.626     -2.052      0.041     -30.621      -0.669\n",
       "State_ GA                                           -19.9618     10.089     -1.978      0.048     -39.777      -0.147\n",
       "State_ IA                                            -3.2810     12.482     -0.263      0.793     -27.796      21.234\n",
       "State_ ID                                           -26.0507     18.308     -1.423      0.155     -62.007       9.906\n",
       "State_ IL                                             8.4356      5.019      1.681      0.093      -1.420      18.292\n",
       "State_ IN                                           -10.5589      8.831     -1.196      0.232     -27.903       6.785\n",
       "State_ KS                                           -16.3943      7.828     -2.094      0.037     -31.768      -1.020\n",
       "State_ KY                                            17.6531     12.306      1.434      0.152      -6.516      41.822\n",
       "State_ LA                                             3.0888     11.825      0.261      0.794     -20.135      26.312\n",
       "State_ MA                                             2.8902      3.801      0.760      0.447      -4.575      10.355\n",
       "State_ MD                                             7.7488      4.912      1.577      0.115      -1.899      17.396\n",
       "State_ MI                                             6.2037     12.307      0.504      0.614     -17.966      30.373\n",
       "State_ MN                                             8.6906     17.281      0.503      0.615     -25.248      42.629\n",
       "State_ MO                                            10.3462      9.832      1.052      0.293      -8.963      29.655\n",
       "State_ NC                                            -4.6452      6.766     -0.687      0.493     -17.933       8.643\n",
       "State_ NE                                            -2.0153     13.446     -0.150      0.881     -28.423      24.392\n",
       "State_ NJ                                             0.8387      6.832      0.123      0.902     -12.578      14.255\n",
       "State_ NM                                           -31.9767     14.476     -2.209      0.028     -60.407      -3.546\n",
       "State_ NY                                             5.7799      4.001      1.444      0.149      -2.078      13.638\n",
       "State_ OH                                            -0.6740      8.183     -0.082      0.934     -16.744      15.396\n",
       "State_ OR                                             0.5633     12.633      0.045      0.964     -24.248      25.375\n",
       "State_ PA                                             9.6401      7.208      1.337      0.182      -4.516      23.796\n",
       "State_ RI                                            42.8858     24.782      1.731      0.084      -5.783      91.555\n",
       "State_ SC                                            31.7056     29.349      1.080      0.280     -25.934      89.345\n",
       "State_ TN                                            -7.7277      9.252     -0.835      0.404     -25.899      10.443\n",
       "State_ TX                                            -0.1831      5.655     -0.032      0.974     -11.289      10.923\n",
       "State_ UT                                             2.5875     14.842      0.174      0.862     -26.562      31.737\n",
       "State_ VA                                            -0.7171      5.003     -0.143      0.886     -10.542       9.108\n",
       "State_ WA                                            13.0765      8.157      1.603      0.109      -2.943      29.096\n",
       "State_ WI                                            -2.7651     10.038     -0.275      0.783     -22.479      16.949\n",
       "Job_Simplif_analyst                                 -31.7090      3.342     -9.487      0.000     -38.273     -25.145\n",
       "Job_Simplif_data engineer                             1.3964      3.210      0.435      0.664      -4.908       7.701\n",
       "Job_Simplif_data scientist                            7.9293      2.525      3.141      0.002       2.971      12.888\n",
       "Job_Simplif_director                                 68.5834      6.613     10.371      0.000      55.595      81.571\n",
       "Job_Simplif_manager                                 -14.7510      5.609     -2.630      0.009     -25.767      -3.735\n",
       "Job_Simplif_mle                                      21.9303      6.024      3.640      0.000      10.099      33.762\n",
       "Job_Simplif_na                                      -11.5180      2.961     -3.890      0.000     -17.333      -5.703\n",
       "Seniority_jr                                          9.5317     11.072      0.861      0.390     -12.213      31.277\n",
       "Seniority_na                                          3.2519      4.408      0.738      0.461      -5.405      11.909\n",
       "Seniority_senior                                     29.0778      4.671      6.226      0.000      19.905      38.251\n",
       "==============================================================================\n",
       "Omnibus:                       71.389   Durbin-Watson:                   2.051\n",
       "Prob(Omnibus):                  0.000   Jarque-Bera (JB):              284.725\n",
       "Skew:                           0.353   Prob(JB):                     1.49e-62\n",
       "Kurtosis:                       5.951   Cond. No.                     8.55e+18\n",
       "==============================================================================\n",
       "\n",
       "Notes:\n",
       "[1] Standard Errors assume that the covariance matrix of the errors is correctly specified.\n",
       "[2] The smallest eigenvalue is 1.75e-28. This might indicate that there are\n",
       "strong multicollinearity problems or that the design matrix is singular.\n",
       "\"\"\""
      ],
      "text/html": "<table class=\"simpletable\">\n<caption>OLS Regression Results</caption>\n<tr>\n  <th>Dep. Variable:</th>            <td>y</td>        <th>  R-squared:         </th> <td>   0.706</td>\n</tr>\n<tr>\n  <th>Model:</th>                   <td>OLS</td>       <th>  Adj. R-squared:    </th> <td>   0.637</td>\n</tr>\n<tr>\n  <th>Method:</th>             <td>Least Squares</td>  <th>  F-statistic:       </th> <td>   10.23</td>\n</tr>\n<tr>\n  <th>Date:</th>             <td>Fri, 19 Feb 2021</td> <th>  Prob (F-statistic):</th> <td>1.76e-94</td>\n</tr>\n<tr>\n  <th>Time:</th>                 <td>21:29:40</td>     <th>  Log-Likelihood:    </th> <td> -3313.5</td>\n</tr>\n<tr>\n  <th>No. Observations:</th>      <td>   742</td>      <th>  AIC:               </th> <td>   6911.</td>\n</tr>\n<tr>\n  <th>Df Residuals:</th>          <td>   600</td>      <th>  BIC:               </th> <td>   7566.</td>\n</tr>\n<tr>\n  <th>Df Model:</th>              <td>   141</td>      <th>                     </th>     <td> </td>   \n</tr>\n<tr>\n  <th>Covariance Type:</th>      <td>nonrobust</td>    <th>                     </th>     <td> </td>   \n</tr>\n</table>\n<table class=\"simpletable\">\n<tr>\n                          <td></td>                             <th>coef</th>     <th>std err</th>      <th>t</th>      <th>P>|t|</th>  <th>[0.025</th>    <th>0.975]</th>  \n</tr>\n<tr>\n  <th>const</th>                                             <td>   41.8613</td> <td>    6.402</td> <td>    6.539</td> <td> 0.000</td> <td>   29.289</td> <td>   54.434</td>\n</tr>\n<tr>\n  <th>Rating</th>                                            <td>    3.6290</td> <td>    1.935</td> <td>    1.876</td> <td> 0.061</td> <td>   -0.171</td> <td>    7.429</td>\n</tr>\n<tr>\n  <th>num_competitors</th>                                   <td>    3.4086</td> <td>    1.300</td> <td>    2.622</td> <td> 0.009</td> <td>    0.856</td> <td>    5.962</td>\n</tr>\n<tr>\n  <th>Per Hour</th>                                          <td>  -38.2012</td> <td>    9.144</td> <td>   -4.178</td> <td> 0.000</td> <td>  -56.159</td> <td>  -20.243</td>\n</tr>\n<tr>\n  <th>Employer_Provided</th>                                 <td>   31.3565</td> <td>   11.516</td> <td>    2.723</td> <td> 0.007</td> <td>    8.740</td> <td>   53.973</td>\n</tr>\n<tr>\n  <th>age</th>                                               <td>    0.0318</td> <td>    0.030</td> <td>    1.055</td> <td> 0.292</td> <td>   -0.027</td> <td>    0.091</td>\n</tr>\n<tr>\n  <th>python_yn</th>                                         <td>    8.4329</td> <td>    2.522</td> <td>    3.344</td> <td> 0.001</td> <td>    3.480</td> <td>   13.386</td>\n</tr>\n<tr>\n  <th>spark</th>                                             <td>   -0.5333</td> <td>    2.923</td> <td>   -0.182</td> <td> 0.855</td> <td>   -6.274</td> <td>    5.208</td>\n</tr>\n<tr>\n  <th>aws</th>                                               <td>    1.1913</td> <td>    2.738</td> <td>    0.435</td> <td> 0.664</td> <td>   -4.187</td> <td>    6.569</td>\n</tr>\n<tr>\n  <th>excel</th>                                             <td>   -0.0790</td> <td>    2.238</td> <td>   -0.035</td> <td> 0.972</td> <td>   -4.474</td> <td>    4.316</td>\n</tr>\n<tr>\n  <th>description_len</th>                                   <td>-5.374e-05</td> <td>    0.001</td> <td>   -0.071</td> <td> 0.944</td> <td>   -0.002</td> <td>    0.001</td>\n</tr>\n<tr>\n  <th>Size_-1</th>                                           <td>   13.1014</td> <td>    8.638</td> <td>    1.517</td> <td> 0.130</td> <td>   -3.862</td> <td>   30.065</td>\n</tr>\n<tr>\n  <th>Size_1 to 50 employees</th>                            <td>    1.5707</td> <td>    6.478</td> <td>    0.242</td> <td> 0.809</td> <td>  -11.152</td> <td>   14.293</td>\n</tr>\n<tr>\n  <th>Size_10000+ employees</th>                             <td>   -3.6022</td> <td>    5.818</td> <td>   -0.619</td> <td> 0.536</td> <td>  -15.029</td> <td>    7.825</td>\n</tr>\n<tr>\n  <th>Size_1001 to 5000 employees</th>                       <td>    6.1423</td> <td>    3.881</td> <td>    1.583</td> <td> 0.114</td> <td>   -1.480</td> <td>   13.765</td>\n</tr>\n<tr>\n  <th>Size_201 to 500 employees</th>                         <td>    2.3816</td> <td>    3.836</td> <td>    0.621</td> <td> 0.535</td> <td>   -5.152</td> <td>    9.915</td>\n</tr>\n<tr>\n  <th>Size_5001 to 10000 employees</th>                      <td>   -3.9736</td> <td>    5.419</td> <td>   -0.733</td> <td> 0.464</td> <td>  -14.617</td> <td>    6.670</td>\n</tr>\n<tr>\n  <th>Size_501 to 1000 employees</th>                        <td>    1.7093</td> <td>    4.028</td> <td>    0.424</td> <td> 0.671</td> <td>   -6.202</td> <td>    9.621</td>\n</tr>\n<tr>\n  <th>Size_51 to 200 employees</th>                          <td>    4.6633</td> <td>    4.338</td> <td>    1.075</td> <td> 0.283</td> <td>   -3.855</td> <td>   13.182</td>\n</tr>\n<tr>\n  <th>Size_Unknown</th>                                      <td>   19.8685</td> <td>   14.001</td> <td>    1.419</td> <td> 0.156</td> <td>   -7.629</td> <td>   47.366</td>\n</tr>\n<tr>\n  <th>Type of ownership_-1</th>                              <td>   13.1014</td> <td>    8.638</td> <td>    1.517</td> <td> 0.130</td> <td>   -3.862</td> <td>   30.065</td>\n</tr>\n<tr>\n  <th>Type of ownership_College / University</th>            <td>    7.0759</td> <td>   17.733</td> <td>    0.399</td> <td> 0.690</td> <td>  -27.751</td> <td>   41.903</td>\n</tr>\n<tr>\n  <th>Type of ownership_Company - Private</th>               <td>    8.5816</td> <td>    5.249</td> <td>    1.635</td> <td> 0.103</td> <td>   -1.726</td> <td>   18.889</td>\n</tr>\n<tr>\n  <th>Type of ownership_Company - Public</th>                <td>   12.9126</td> <td>    5.700</td> <td>    2.265</td> <td> 0.024</td> <td>    1.719</td> <td>   24.107</td>\n</tr>\n<tr>\n  <th>Type of ownership_Government</th>                      <td>  -18.6940</td> <td>   15.200</td> <td>   -1.230</td> <td> 0.219</td> <td>  -48.545</td> <td>   11.157</td>\n</tr>\n<tr>\n  <th>Type of ownership_Hospital</th>                        <td>   -6.0334</td> <td>    9.877</td> <td>   -0.611</td> <td> 0.542</td> <td>  -25.431</td> <td>   13.364</td>\n</tr>\n<tr>\n  <th>Type of ownership_Nonprofit Organization</th>          <td>   -9.1899</td> <td>    6.675</td> <td>   -1.377</td> <td> 0.169</td> <td>  -22.299</td> <td>    3.919</td>\n</tr>\n<tr>\n  <th>Type of ownership_Other Organization</th>              <td>   -5.5673</td> <td>   14.383</td> <td>   -0.387</td> <td> 0.699</td> <td>  -33.814</td> <td>   22.680</td>\n</tr>\n<tr>\n  <th>Type of ownership_School / School District</th>        <td>   -7.0725</td> <td>   23.787</td> <td>   -0.297</td> <td> 0.766</td> <td>  -53.789</td> <td>   39.644</td>\n</tr>\n<tr>\n  <th>Type of ownership_Subsidiary or Business Segment</th>  <td>   12.6865</td> <td>    6.936</td> <td>    1.829</td> <td> 0.068</td> <td>   -0.936</td> <td>   26.309</td>\n</tr>\n<tr>\n  <th>Type of ownership_Unknown</th>                         <td>   34.0605</td> <td>   28.645</td> <td>    1.189</td> <td> 0.235</td> <td>  -22.195</td> <td>   90.316</td>\n</tr>\n<tr>\n  <th>Industry_-1</th>                                       <td>    5.4348</td> <td>    7.947</td> <td>    0.684</td> <td> 0.494</td> <td>  -10.172</td> <td>   21.042</td>\n</tr>\n<tr>\n  <th>Industry_Accounting</th>                               <td>    1.8640</td> <td>   13.505</td> <td>    0.138</td> <td> 0.890</td> <td>  -24.658</td> <td>   28.386</td>\n</tr>\n<tr>\n  <th>Industry_Advertising & Marketing</th>                  <td>   12.1133</td> <td>    5.956</td> <td>    2.034</td> <td> 0.042</td> <td>    0.415</td> <td>   23.811</td>\n</tr>\n<tr>\n  <th>Industry_Aerospace & Defense</th>                      <td>    5.0632</td> <td>    3.092</td> <td>    1.638</td> <td> 0.102</td> <td>   -1.009</td> <td>   11.135</td>\n</tr>\n<tr>\n  <th>Industry_Architectural & Engineering Services</th>     <td>  -34.6613</td> <td>   15.829</td> <td>   -2.190</td> <td> 0.029</td> <td>  -65.749</td> <td>   -3.574</td>\n</tr>\n<tr>\n  <th>Industry_Auctions & Galleries</th>                     <td>    9.7467</td> <td>   22.892</td> <td>    0.426</td> <td> 0.670</td> <td>  -35.212</td> <td>   54.705</td>\n</tr>\n<tr>\n  <th>Industry_Banks & Credit Unions</th>                    <td>  -17.3156</td> <td>    8.062</td> <td>   -2.148</td> <td> 0.032</td> <td>  -33.148</td> <td>   -1.483</td>\n</tr>\n<tr>\n  <th>Industry_Beauty & Personal Accessories Stores</th>     <td>   15.8971</td> <td>   21.589</td> <td>    0.736</td> <td> 0.462</td> <td>  -26.503</td> <td>   58.297</td>\n</tr>\n<tr>\n  <th>Industry_Biotech & Pharmaceuticals</th>                <td>    6.3211</td> <td>    2.048</td> <td>    3.087</td> <td> 0.002</td> <td>    2.299</td> <td>   10.343</td>\n</tr>\n<tr>\n  <th>Industry_Brokerage Services</th>                       <td>   27.1822</td> <td>   15.543</td> <td>    1.749</td> <td> 0.081</td> <td>   -3.344</td> <td>   57.708</td>\n</tr>\n<tr>\n  <th>Industry_Colleges & Universities</th>                  <td>   11.3230</td> <td>   13.029</td> <td>    0.869</td> <td> 0.385</td> <td>  -14.266</td> <td>   36.912</td>\n</tr>\n<tr>\n  <th>Industry_Computer Hardware & Software</th>             <td>   -0.6687</td> <td>    3.235</td> <td>   -0.207</td> <td> 0.836</td> <td>   -7.021</td> <td>    5.684</td>\n</tr>\n<tr>\n  <th>Industry_Construction</th>                             <td>  -14.6362</td> <td>   10.552</td> <td>   -1.387</td> <td> 0.166</td> <td>  -35.359</td> <td>    6.086</td>\n</tr>\n<tr>\n  <th>Industry_Consulting</th>                               <td>   12.6970</td> <td>    5.907</td> <td>    2.149</td> <td> 0.032</td> <td>    1.096</td> <td>   24.299</td>\n</tr>\n<tr>\n  <th>Industry_Consumer Product Rental</th>                  <td>   -0.8486</td> <td>   12.998</td> <td>   -0.065</td> <td> 0.948</td> <td>  -26.375</td> <td>   24.678</td>\n</tr>\n<tr>\n  <th>Industry_Consumer Products Manufacturing</th>          <td>   14.1745</td> <td>    9.755</td> <td>    1.453</td> <td> 0.147</td> <td>   -4.984</td> <td>   33.333</td>\n</tr>\n<tr>\n  <th>Industry_Department, Clothing, & Shoe Stores</th>      <td>    3.7326</td> <td>   11.576</td> <td>    0.322</td> <td> 0.747</td> <td>  -19.002</td> <td>   26.467</td>\n</tr>\n<tr>\n  <th>Industry_Education Training Services</th>              <td>  -23.8871</td> <td>   12.551</td> <td>   -1.903</td> <td> 0.057</td> <td>  -48.536</td> <td>    0.762</td>\n</tr>\n<tr>\n  <th>Industry_Energy</th>                                   <td>   -3.1953</td> <td>    7.657</td> <td>   -0.417</td> <td> 0.677</td> <td>  -18.234</td> <td>   11.843</td>\n</tr>\n<tr>\n  <th>Industry_Enterprise Software & Network Solutions</th>  <td>    9.1056</td> <td>    3.593</td> <td>    2.534</td> <td> 0.012</td> <td>    2.049</td> <td>   16.162</td>\n</tr>\n<tr>\n  <th>Industry_Farm Support Services</th>                    <td>   -0.2884</td> <td>   12.661</td> <td>   -0.023</td> <td> 0.982</td> <td>  -25.154</td> <td>   24.577</td>\n</tr>\n<tr>\n  <th>Industry_Federal Agencies</th>                         <td>    7.1557</td> <td>    5.191</td> <td>    1.379</td> <td> 0.169</td> <td>   -3.039</td> <td>   17.350</td>\n</tr>\n<tr>\n  <th>Industry_Financial Analytics & Research</th>           <td>    0.4728</td> <td>    9.184</td> <td>    0.051</td> <td> 0.959</td> <td>  -17.564</td> <td>   18.509</td>\n</tr>\n<tr>\n  <th>Industry_Financial Transaction Processing</th>         <td>  -15.8830</td> <td>   12.876</td> <td>   -1.234</td> <td> 0.218</td> <td>  -41.171</td> <td>    9.405</td>\n</tr>\n<tr>\n  <th>Industry_Food & Beverage Manufacturing</th>            <td>   -4.2925</td> <td>   11.603</td> <td>   -0.370</td> <td> 0.712</td> <td>  -27.079</td> <td>   18.494</td>\n</tr>\n<tr>\n  <th>Industry_Gambling</th>                                 <td>   -9.4394</td> <td>    6.541</td> <td>   -1.443</td> <td> 0.149</td> <td>  -22.285</td> <td>    3.406</td>\n</tr>\n<tr>\n  <th>Industry_Gas Stations</th>                             <td>  -21.3496</td> <td>   15.305</td> <td>   -1.395</td> <td> 0.164</td> <td>  -51.408</td> <td>    8.709</td>\n</tr>\n<tr>\n  <th>Industry_Health Care Products Manufacturing</th>       <td>   19.3342</td> <td>   22.172</td> <td>    0.872</td> <td> 0.384</td> <td>  -24.209</td> <td>   62.877</td>\n</tr>\n<tr>\n  <th>Industry_Health Care Services & Hospitals</th>         <td>    5.7574</td> <td>    2.912</td> <td>    1.977</td> <td> 0.048</td> <td>    0.039</td> <td>   11.476</td>\n</tr>\n<tr>\n  <th>Industry_Health, Beauty, & Fitness</th>                <td>   -3.9067</td> <td>   17.419</td> <td>   -0.224</td> <td> 0.823</td> <td>  -38.116</td> <td>   30.303</td>\n</tr>\n<tr>\n  <th>Industry_IT Services</th>                              <td>    0.2536</td> <td>    3.464</td> <td>    0.073</td> <td> 0.942</td> <td>   -6.550</td> <td>    7.057</td>\n</tr>\n<tr>\n  <th>Industry_Industrial Manufacturing</th>                 <td>   -8.7432</td> <td>   13.161</td> <td>   -0.664</td> <td> 0.507</td> <td>  -34.589</td> <td>   17.103</td>\n</tr>\n<tr>\n  <th>Industry_Insurance Agencies & Brokerages</th>          <td>   -4.6388</td> <td>    6.980</td> <td>   -0.665</td> <td> 0.507</td> <td>  -18.347</td> <td>    9.069</td>\n</tr>\n<tr>\n  <th>Industry_Insurance Carriers</th>                       <td>    5.6869</td> <td>    4.485</td> <td>    1.268</td> <td> 0.205</td> <td>   -3.121</td> <td>   14.495</td>\n</tr>\n<tr>\n  <th>Industry_Internet</th>                                 <td>    1.0273</td> <td>    4.468</td> <td>    0.230</td> <td> 0.818</td> <td>   -7.748</td> <td>    9.802</td>\n</tr>\n<tr>\n  <th>Industry_Investment Banking & Asset Management</th>    <td>   37.0149</td> <td>   12.098</td> <td>    3.060</td> <td> 0.002</td> <td>   13.256</td> <td>   60.774</td>\n</tr>\n<tr>\n  <th>Industry_K-12 Education</th>                           <td>    9.8210</td> <td>   14.806</td> <td>    0.663</td> <td> 0.507</td> <td>  -19.256</td> <td>   38.898</td>\n</tr>\n<tr>\n  <th>Industry_Lending</th>                                  <td>   -2.0267</td> <td>    9.891</td> <td>   -0.205</td> <td> 0.838</td> <td>  -21.452</td> <td>   17.399</td>\n</tr>\n<tr>\n  <th>Industry_Logistics & Supply Chain</th>                 <td>   -0.9464</td> <td>   13.202</td> <td>   -0.072</td> <td> 0.943</td> <td>  -26.875</td> <td>   24.982</td>\n</tr>\n<tr>\n  <th>Industry_Metals Brokers</th>                           <td>   -6.7580</td> <td>   15.577</td> <td>   -0.434</td> <td> 0.665</td> <td>  -37.349</td> <td>   23.833</td>\n</tr>\n<tr>\n  <th>Industry_Mining</th>                                   <td>   -5.1588</td> <td>   17.965</td> <td>   -0.287</td> <td> 0.774</td> <td>  -40.441</td> <td>   30.123</td>\n</tr>\n<tr>\n  <th>Industry_Motion Picture Production & Distribution</th> <td>   47.8638</td> <td>   19.599</td> <td>    2.442</td> <td> 0.015</td> <td>    9.373</td> <td>   86.355</td>\n</tr>\n<tr>\n  <th>Industry_Other Retail Stores</th>                      <td>   37.7926</td> <td>   21.578</td> <td>    1.751</td> <td> 0.080</td> <td>   -4.584</td> <td>   80.170</td>\n</tr>\n<tr>\n  <th>Industry_Real Estate</th>                              <td>   -1.9604</td> <td>    4.925</td> <td>   -0.398</td> <td> 0.691</td> <td>  -11.633</td> <td>    7.712</td>\n</tr>\n<tr>\n  <th>Industry_Religious Organizations</th>                  <td>   26.4318</td> <td>   13.730</td> <td>    1.925</td> <td> 0.055</td> <td>   -0.534</td> <td>   53.397</td>\n</tr>\n<tr>\n  <th>Industry_Research & Development</th>                   <td>   -2.5221</td> <td>    6.537</td> <td>   -0.386</td> <td> 0.700</td> <td>  -15.360</td> <td>   10.315</td>\n</tr>\n<tr>\n  <th>Industry_Security Services</th>                        <td>   14.9338</td> <td>    9.777</td> <td>    1.527</td> <td> 0.127</td> <td>   -4.267</td> <td>   34.135</td>\n</tr>\n<tr>\n  <th>Industry_Social Assistance</th>                        <td>  -12.1231</td> <td>   11.797</td> <td>   -1.028</td> <td> 0.305</td> <td>  -35.292</td> <td>   11.046</td>\n</tr>\n<tr>\n  <th>Industry_Sporting Goods Stores</th>                    <td>  -37.5662</td> <td>   17.842</td> <td>   -2.105</td> <td> 0.036</td> <td>  -72.607</td> <td>   -2.525</td>\n</tr>\n<tr>\n  <th>Industry_Staffing & Outsourcing</th>                   <td>   -6.6450</td> <td>   10.961</td> <td>   -0.606</td> <td> 0.545</td> <td>  -28.172</td> <td>   14.882</td>\n</tr>\n<tr>\n  <th>Industry_Stock Exchanges</th>                          <td>  -16.3943</td> <td>    7.828</td> <td>   -2.094</td> <td> 0.037</td> <td>  -31.768</td> <td>   -1.020</td>\n</tr>\n<tr>\n  <th>Industry_TV Broadcast & Cable Networks</th>            <td>   -0.9112</td> <td>   15.562</td> <td>   -0.059</td> <td> 0.953</td> <td>  -31.474</td> <td>   29.652</td>\n</tr>\n<tr>\n  <th>Industry_Telecommunications Manufacturing</th>         <td>    4.5219</td> <td>   13.694</td> <td>    0.330</td> <td> 0.741</td> <td>  -22.372</td> <td>   31.415</td>\n</tr>\n<tr>\n  <th>Industry_Telecommunications Services</th>              <td>   -0.2424</td> <td>   11.281</td> <td>   -0.021</td> <td> 0.983</td> <td>  -22.397</td> <td>   21.912</td>\n</tr>\n<tr>\n  <th>Industry_Transportation Equipment Manufacturing</th>   <td>  -21.5185</td> <td>   23.744</td> <td>   -0.906</td> <td> 0.365</td> <td>  -68.151</td> <td>   25.114</td>\n</tr>\n<tr>\n  <th>Industry_Transportation Management</th>                <td>  -19.1028</td> <td>   13.967</td> <td>   -1.368</td> <td> 0.172</td> <td>  -46.534</td> <td>    8.328</td>\n</tr>\n<tr>\n  <th>Industry_Travel Agencies</th>                          <td>   -5.2851</td> <td>    5.230</td> <td>   -1.010</td> <td> 0.313</td> <td>  -15.557</td> <td>    4.987</td>\n</tr>\n<tr>\n  <th>Industry_Trucking</th>                                 <td>   24.3301</td> <td>   19.832</td> <td>    1.227</td> <td> 0.220</td> <td>  -14.619</td> <td>   63.279</td>\n</tr>\n<tr>\n  <th>Industry_Video Games</th>                              <td>  -31.4547</td> <td>   14.418</td> <td>   -2.182</td> <td> 0.030</td> <td>  -59.771</td> <td>   -3.138</td>\n</tr>\n<tr>\n  <th>Industry_Wholesale</th>                                <td>   -0.8213</td> <td>   13.081</td> <td>   -0.063</td> <td> 0.950</td> <td>  -26.512</td> <td>   24.870</td>\n</tr>\n<tr>\n  <th>Sector_-1</th>                                         <td>    5.4348</td> <td>    7.947</td> <td>    0.684</td> <td> 0.494</td> <td>  -10.172</td> <td>   21.042</td>\n</tr>\n<tr>\n  <th>Sector_Accounting & Legal</th>                         <td>    1.8640</td> <td>   13.505</td> <td>    0.138</td> <td> 0.890</td> <td>  -24.658</td> <td>   28.386</td>\n</tr>\n<tr>\n  <th>Sector_Aerospace & Defense</th>                        <td>    5.0632</td> <td>    3.092</td> <td>    1.638</td> <td> 0.102</td> <td>   -1.009</td> <td>   11.135</td>\n</tr>\n<tr>\n  <th>Sector_Agriculture & Forestry</th>                     <td>   -0.2884</td> <td>   12.661</td> <td>   -0.023</td> <td> 0.982</td> <td>  -25.154</td> <td>   24.577</td>\n</tr>\n<tr>\n  <th>Sector_Arts, Entertainment & Recreation</th>           <td>   -9.4394</td> <td>    6.541</td> <td>   -1.443</td> <td> 0.149</td> <td>  -22.285</td> <td>    3.406</td>\n</tr>\n<tr>\n  <th>Sector_Biotech & Pharmaceuticals</th>                  <td>    6.3211</td> <td>    2.048</td> <td>    3.087</td> <td> 0.002</td> <td>    2.299</td> <td>   10.343</td>\n</tr>\n<tr>\n  <th>Sector_Business Services</th>                          <td>   -4.9057</td> <td>    4.201</td> <td>   -1.168</td> <td> 0.243</td> <td>  -13.157</td> <td>    3.345</td>\n</tr>\n<tr>\n  <th>Sector_Construction, Repair & Maintenance</th>         <td>  -14.6362</td> <td>   10.552</td> <td>   -1.387</td> <td> 0.166</td> <td>  -35.359</td> <td>    6.086</td>\n</tr>\n<tr>\n  <th>Sector_Consumer Services</th>                          <td>   -4.7553</td> <td>    9.439</td> <td>   -0.504</td> <td> 0.615</td> <td>  -23.292</td> <td>   13.782</td>\n</tr>\n<tr>\n  <th>Sector_Education</th>                                  <td>   -2.7431</td> <td>    6.852</td> <td>   -0.400</td> <td> 0.689</td> <td>  -16.199</td> <td>   10.713</td>\n</tr>\n<tr>\n  <th>Sector_Finance</th>                                    <td>   13.0503</td> <td>    4.519</td> <td>    2.888</td> <td> 0.004</td> <td>    4.176</td> <td>   21.924</td>\n</tr>\n<tr>\n  <th>Sector_Government</th>                                 <td>    7.1557</td> <td>    5.191</td> <td>    1.379</td> <td> 0.169</td> <td>   -3.039</td> <td>   17.350</td>\n</tr>\n<tr>\n  <th>Sector_Health Care</th>                                <td>    5.7574</td> <td>    2.912</td> <td>    1.977</td> <td> 0.048</td> <td>    0.039</td> <td>   11.476</td>\n</tr>\n<tr>\n  <th>Sector_Information Technology</th>                     <td>    9.7177</td> <td>    2.772</td> <td>    3.506</td> <td> 0.000</td> <td>    4.275</td> <td>   15.161</td>\n</tr>\n<tr>\n  <th>Sector_Insurance</th>                                  <td>    1.0480</td> <td>    3.925</td> <td>    0.267</td> <td> 0.790</td> <td>   -6.660</td> <td>    8.756</td>\n</tr>\n<tr>\n  <th>Sector_Manufacturing</th>                              <td>   -1.0454</td> <td>    6.937</td> <td>   -0.151</td> <td> 0.880</td> <td>  -14.668</td> <td>   12.578</td>\n</tr>\n<tr>\n  <th>Sector_Media</th>                                      <td>   15.4979</td> <td>    8.740</td> <td>    1.773</td> <td> 0.077</td> <td>   -1.667</td> <td>   32.663</td>\n</tr>\n<tr>\n  <th>Sector_Mining & Metals</th>                            <td>  -11.9169</td> <td>   10.737</td> <td>   -1.110</td> <td> 0.268</td> <td>  -33.004</td> <td>    9.170</td>\n</tr>\n<tr>\n  <th>Sector_Non-Profit</th>                                 <td>   14.3086</td> <td>    8.894</td> <td>    1.609</td> <td> 0.108</td> <td>   -3.158</td> <td>   31.775</td>\n</tr>\n<tr>\n  <th>Sector_Oil, Gas, Energy & Utilities</th>               <td>   -3.1953</td> <td>    7.657</td> <td>   -0.417</td> <td> 0.677</td> <td>  -18.234</td> <td>   11.843</td>\n</tr>\n<tr>\n  <th>Sector_Real Estate</th>                                <td>   -1.9604</td> <td>    4.925</td> <td>   -0.398</td> <td> 0.691</td> <td>  -11.633</td> <td>    7.712</td>\n</tr>\n<tr>\n  <th>Sector_Retail</th>                                     <td>    8.2533</td> <td>    7.154</td> <td>    1.154</td> <td> 0.249</td> <td>   -5.797</td> <td>   22.304</td>\n</tr>\n<tr>\n  <th>Sector_Telecommunications</th>                         <td>    4.2795</td> <td>    7.817</td> <td>    0.547</td> <td> 0.584</td> <td>  -11.072</td> <td>   19.631</td>\n</tr>\n<tr>\n  <th>Sector_Transportation & Logistics</th>                 <td>    4.2809</td> <td>    8.054</td> <td>    0.532</td> <td> 0.595</td> <td>  -11.536</td> <td>   20.098</td>\n</tr>\n<tr>\n  <th>Sector_Travel & Tourism</th>                           <td>   -5.2851</td> <td>    5.230</td> <td>   -1.010</td> <td> 0.313</td> <td>  -15.557</td> <td>    4.987</td>\n</tr>\n<tr>\n  <th>Revenue_$1 to $2 billion (USD)</th>                    <td>    2.8077</td> <td>    4.791</td> <td>    0.586</td> <td> 0.558</td> <td>   -6.602</td> <td>   12.218</td>\n</tr>\n<tr>\n  <th>Revenue_$1 to $5 million (USD)</th>                    <td>   -5.6785</td> <td>   10.979</td> <td>   -0.517</td> <td> 0.605</td> <td>  -27.240</td> <td>   15.883</td>\n</tr>\n<tr>\n  <th>Revenue_$10 to $25 million (USD)</th>                  <td>   -4.5917</td> <td>    5.231</td> <td>   -0.878</td> <td> 0.380</td> <td>  -14.865</td> <td>    5.682</td>\n</tr>\n<tr>\n  <th>Revenue_$10+ billion (USD)</th>                        <td>   10.1045</td> <td>    6.419</td> <td>    1.574</td> <td> 0.116</td> <td>   -2.502</td> <td>   22.711</td>\n</tr>\n<tr>\n  <th>Revenue_$100 to $500 million (USD)</th>                <td>   -4.6098</td> <td>    4.062</td> <td>   -1.135</td> <td> 0.257</td> <td>  -12.587</td> <td>    3.367</td>\n</tr>\n<tr>\n  <th>Revenue_$2 to $5 billion (USD)</th>                    <td>   -0.3155</td> <td>    6.290</td> <td>   -0.050</td> <td> 0.960</td> <td>  -12.669</td> <td>   12.038</td>\n</tr>\n<tr>\n  <th>Revenue_$25 to $50 million (USD)</th>                  <td>   -5.1831</td> <td>    5.379</td> <td>   -0.964</td> <td> 0.336</td> <td>  -15.748</td> <td>    5.382</td>\n</tr>\n<tr>\n  <th>Revenue_$5 to $10 billion (USD)</th>                   <td>    7.7130</td> <td>    7.817</td> <td>    0.987</td> <td> 0.324</td> <td>   -7.638</td> <td>   23.064</td>\n</tr>\n<tr>\n  <th>Revenue_$5 to $10 million (USD)</th>                   <td>   30.7925</td> <td>    8.317</td> <td>    3.703</td> <td> 0.000</td> <td>   14.459</td> <td>   47.126</td>\n</tr>\n<tr>\n  <th>Revenue_$50 to $100 million (USD)</th>                 <td>    5.5982</td> <td>    4.958</td> <td>    1.129</td> <td> 0.259</td> <td>   -4.139</td> <td>   15.335</td>\n</tr>\n<tr>\n  <th>Revenue_$500 million to $1 billion (USD)</th>          <td>   -1.4591</td> <td>    5.303</td> <td>   -0.275</td> <td> 0.783</td> <td>  -11.874</td> <td>    8.956</td>\n</tr>\n<tr>\n  <th>Revenue_-1</th>                                        <td>   13.1014</td> <td>    8.638</td> <td>    1.517</td> <td> 0.130</td> <td>   -3.862</td> <td>   30.065</td>\n</tr>\n<tr>\n  <th>Revenue_Less than $1 million (USD)</th>                <td>   -5.7913</td> <td>   15.198</td> <td>   -0.381</td> <td> 0.703</td> <td>  -35.638</td> <td>   24.056</td>\n</tr>\n<tr>\n  <th>Revenue_Unknown / Non-Applicable</th>                  <td>   -0.6271</td> <td>    3.049</td> <td>   -0.206</td> <td> 0.837</td> <td>   -6.615</td> <td>    5.361</td>\n</tr>\n<tr>\n  <th>State_ AL</th>                                         <td>   -6.4810</td> <td>   10.477</td> <td>   -0.619</td> <td> 0.536</td> <td>  -27.056</td> <td>   14.094</td>\n</tr>\n<tr>\n  <th>State_ AZ</th>                                         <td>  -14.8036</td> <td>    8.627</td> <td>   -1.716</td> <td> 0.087</td> <td>  -31.746</td> <td>    2.138</td>\n</tr>\n<tr>\n  <th>State_ CA</th>                                         <td>   26.6319</td> <td>    3.157</td> <td>    8.437</td> <td> 0.000</td> <td>   20.433</td> <td>   32.831</td>\n</tr>\n<tr>\n  <th>State_ CO</th>                                         <td>    8.1743</td> <td>    8.305</td> <td>    0.984</td> <td> 0.325</td> <td>   -8.136</td> <td>   24.485</td>\n</tr>\n<tr>\n  <th>State_ CT</th>                                         <td>  -23.6669</td> <td>   11.386</td> <td>   -2.079</td> <td> 0.038</td> <td>  -46.028</td> <td>   -1.305</td>\n</tr>\n<tr>\n  <th>State_ DC</th>                                         <td>   13.2495</td> <td>    8.064</td> <td>    1.643</td> <td> 0.101</td> <td>   -2.587</td> <td>   29.086</td>\n</tr>\n<tr>\n  <th>State_ DE</th>                                         <td>    9.2190</td> <td>   13.856</td> <td>    0.665</td> <td> 0.506</td> <td>  -17.994</td> <td>   36.432</td>\n</tr>\n<tr>\n  <th>State_ FL</th>                                         <td>  -15.6452</td> <td>    7.626</td> <td>   -2.052</td> <td> 0.041</td> <td>  -30.621</td> <td>   -0.669</td>\n</tr>\n<tr>\n  <th>State_ GA</th>                                         <td>  -19.9618</td> <td>   10.089</td> <td>   -1.978</td> <td> 0.048</td> <td>  -39.777</td> <td>   -0.147</td>\n</tr>\n<tr>\n  <th>State_ IA</th>                                         <td>   -3.2810</td> <td>   12.482</td> <td>   -0.263</td> <td> 0.793</td> <td>  -27.796</td> <td>   21.234</td>\n</tr>\n<tr>\n  <th>State_ ID</th>                                         <td>  -26.0507</td> <td>   18.308</td> <td>   -1.423</td> <td> 0.155</td> <td>  -62.007</td> <td>    9.906</td>\n</tr>\n<tr>\n  <th>State_ IL</th>                                         <td>    8.4356</td> <td>    5.019</td> <td>    1.681</td> <td> 0.093</td> <td>   -1.420</td> <td>   18.292</td>\n</tr>\n<tr>\n  <th>State_ IN</th>                                         <td>  -10.5589</td> <td>    8.831</td> <td>   -1.196</td> <td> 0.232</td> <td>  -27.903</td> <td>    6.785</td>\n</tr>\n<tr>\n  <th>State_ KS</th>                                         <td>  -16.3943</td> <td>    7.828</td> <td>   -2.094</td> <td> 0.037</td> <td>  -31.768</td> <td>   -1.020</td>\n</tr>\n<tr>\n  <th>State_ KY</th>                                         <td>   17.6531</td> <td>   12.306</td> <td>    1.434</td> <td> 0.152</td> <td>   -6.516</td> <td>   41.822</td>\n</tr>\n<tr>\n  <th>State_ LA</th>                                         <td>    3.0888</td> <td>   11.825</td> <td>    0.261</td> <td> 0.794</td> <td>  -20.135</td> <td>   26.312</td>\n</tr>\n<tr>\n  <th>State_ MA</th>                                         <td>    2.8902</td> <td>    3.801</td> <td>    0.760</td> <td> 0.447</td> <td>   -4.575</td> <td>   10.355</td>\n</tr>\n<tr>\n  <th>State_ MD</th>                                         <td>    7.7488</td> <td>    4.912</td> <td>    1.577</td> <td> 0.115</td> <td>   -1.899</td> <td>   17.396</td>\n</tr>\n<tr>\n  <th>State_ MI</th>                                         <td>    6.2037</td> <td>   12.307</td> <td>    0.504</td> <td> 0.614</td> <td>  -17.966</td> <td>   30.373</td>\n</tr>\n<tr>\n  <th>State_ MN</th>                                         <td>    8.6906</td> <td>   17.281</td> <td>    0.503</td> <td> 0.615</td> <td>  -25.248</td> <td>   42.629</td>\n</tr>\n<tr>\n  <th>State_ MO</th>                                         <td>   10.3462</td> <td>    9.832</td> <td>    1.052</td> <td> 0.293</td> <td>   -8.963</td> <td>   29.655</td>\n</tr>\n<tr>\n  <th>State_ NC</th>                                         <td>   -4.6452</td> <td>    6.766</td> <td>   -0.687</td> <td> 0.493</td> <td>  -17.933</td> <td>    8.643</td>\n</tr>\n<tr>\n  <th>State_ NE</th>                                         <td>   -2.0153</td> <td>   13.446</td> <td>   -0.150</td> <td> 0.881</td> <td>  -28.423</td> <td>   24.392</td>\n</tr>\n<tr>\n  <th>State_ NJ</th>                                         <td>    0.8387</td> <td>    6.832</td> <td>    0.123</td> <td> 0.902</td> <td>  -12.578</td> <td>   14.255</td>\n</tr>\n<tr>\n  <th>State_ NM</th>                                         <td>  -31.9767</td> <td>   14.476</td> <td>   -2.209</td> <td> 0.028</td> <td>  -60.407</td> <td>   -3.546</td>\n</tr>\n<tr>\n  <th>State_ NY</th>                                         <td>    5.7799</td> <td>    4.001</td> <td>    1.444</td> <td> 0.149</td> <td>   -2.078</td> <td>   13.638</td>\n</tr>\n<tr>\n  <th>State_ OH</th>                                         <td>   -0.6740</td> <td>    8.183</td> <td>   -0.082</td> <td> 0.934</td> <td>  -16.744</td> <td>   15.396</td>\n</tr>\n<tr>\n  <th>State_ OR</th>                                         <td>    0.5633</td> <td>   12.633</td> <td>    0.045</td> <td> 0.964</td> <td>  -24.248</td> <td>   25.375</td>\n</tr>\n<tr>\n  <th>State_ PA</th>                                         <td>    9.6401</td> <td>    7.208</td> <td>    1.337</td> <td> 0.182</td> <td>   -4.516</td> <td>   23.796</td>\n</tr>\n<tr>\n  <th>State_ RI</th>                                         <td>   42.8858</td> <td>   24.782</td> <td>    1.731</td> <td> 0.084</td> <td>   -5.783</td> <td>   91.555</td>\n</tr>\n<tr>\n  <th>State_ SC</th>                                         <td>   31.7056</td> <td>   29.349</td> <td>    1.080</td> <td> 0.280</td> <td>  -25.934</td> <td>   89.345</td>\n</tr>\n<tr>\n  <th>State_ TN</th>                                         <td>   -7.7277</td> <td>    9.252</td> <td>   -0.835</td> <td> 0.404</td> <td>  -25.899</td> <td>   10.443</td>\n</tr>\n<tr>\n  <th>State_ TX</th>                                         <td>   -0.1831</td> <td>    5.655</td> <td>   -0.032</td> <td> 0.974</td> <td>  -11.289</td> <td>   10.923</td>\n</tr>\n<tr>\n  <th>State_ UT</th>                                         <td>    2.5875</td> <td>   14.842</td> <td>    0.174</td> <td> 0.862</td> <td>  -26.562</td> <td>   31.737</td>\n</tr>\n<tr>\n  <th>State_ VA</th>                                         <td>   -0.7171</td> <td>    5.003</td> <td>   -0.143</td> <td> 0.886</td> <td>  -10.542</td> <td>    9.108</td>\n</tr>\n<tr>\n  <th>State_ WA</th>                                         <td>   13.0765</td> <td>    8.157</td> <td>    1.603</td> <td> 0.109</td> <td>   -2.943</td> <td>   29.096</td>\n</tr>\n<tr>\n  <th>State_ WI</th>                                         <td>   -2.7651</td> <td>   10.038</td> <td>   -0.275</td> <td> 0.783</td> <td>  -22.479</td> <td>   16.949</td>\n</tr>\n<tr>\n  <th>Job_Simplif_analyst</th>                               <td>  -31.7090</td> <td>    3.342</td> <td>   -9.487</td> <td> 0.000</td> <td>  -38.273</td> <td>  -25.145</td>\n</tr>\n<tr>\n  <th>Job_Simplif_data engineer</th>                         <td>    1.3964</td> <td>    3.210</td> <td>    0.435</td> <td> 0.664</td> <td>   -4.908</td> <td>    7.701</td>\n</tr>\n<tr>\n  <th>Job_Simplif_data scientist</th>                        <td>    7.9293</td> <td>    2.525</td> <td>    3.141</td> <td> 0.002</td> <td>    2.971</td> <td>   12.888</td>\n</tr>\n<tr>\n  <th>Job_Simplif_director</th>                              <td>   68.5834</td> <td>    6.613</td> <td>   10.371</td> <td> 0.000</td> <td>   55.595</td> <td>   81.571</td>\n</tr>\n<tr>\n  <th>Job_Simplif_manager</th>                               <td>  -14.7510</td> <td>    5.609</td> <td>   -2.630</td> <td> 0.009</td> <td>  -25.767</td> <td>   -3.735</td>\n</tr>\n<tr>\n  <th>Job_Simplif_mle</th>                                   <td>   21.9303</td> <td>    6.024</td> <td>    3.640</td> <td> 0.000</td> <td>   10.099</td> <td>   33.762</td>\n</tr>\n<tr>\n  <th>Job_Simplif_na</th>                                    <td>  -11.5180</td> <td>    2.961</td> <td>   -3.890</td> <td> 0.000</td> <td>  -17.333</td> <td>   -5.703</td>\n</tr>\n<tr>\n  <th>Seniority_jr</th>                                      <td>    9.5317</td> <td>   11.072</td> <td>    0.861</td> <td> 0.390</td> <td>  -12.213</td> <td>   31.277</td>\n</tr>\n<tr>\n  <th>Seniority_na</th>                                      <td>    3.2519</td> <td>    4.408</td> <td>    0.738</td> <td> 0.461</td> <td>   -5.405</td> <td>   11.909</td>\n</tr>\n<tr>\n  <th>Seniority_senior</th>                                  <td>   29.0778</td> <td>    4.671</td> <td>    6.226</td> <td> 0.000</td> <td>   19.905</td> <td>   38.251</td>\n</tr>\n</table>\n<table class=\"simpletable\">\n<tr>\n  <th>Omnibus:</th>       <td>71.389</td> <th>  Durbin-Watson:     </th> <td>   2.051</td>\n</tr>\n<tr>\n  <th>Prob(Omnibus):</th> <td> 0.000</td> <th>  Jarque-Bera (JB):  </th> <td> 284.725</td>\n</tr>\n<tr>\n  <th>Skew:</th>          <td> 0.353</td> <th>  Prob(JB):          </th> <td>1.49e-62</td>\n</tr>\n<tr>\n  <th>Kurtosis:</th>      <td> 5.951</td> <th>  Cond. No.          </th> <td>8.55e+18</td>\n</tr>\n</table><br/><br/>Notes:<br/>[1] Standard Errors assume that the covariance matrix of the errors is correctly specified.<br/>[2] The smallest eigenvalue is 1.75e-28. This might indicate that there are<br/>strong multicollinearity problems or that the design matrix is singular."
     },
     "metadata": {},
     "execution_count": 20
    }
   ],
   "source": [
    "# Multiple linear regression\n",
    "X_sm = X = sm.add_constant(X)\n",
    "model = sm.OLS(y, X_sm)\n",
    "model.fit().summary()"
   ]
  },
  {
   "cell_type": "code",
   "execution_count": 21,
   "metadata": {},
   "outputs": [
    {
     "output_type": "execute_result",
     "data": {
      "text/plain": [
       "-20.908052996233625"
      ]
     },
     "metadata": {},
     "execution_count": 21
    }
   ],
   "source": [
    "# Multiple Linear Regression\n",
    "ln = LinearRegression()\n",
    "ln.fit(X_train, y_train)\n",
    "\n",
    "np.mean(cross_val_score(ln, X_train, y_train, scoring = 'neg_mean_absolute_error', cv=3))"
   ]
  },
  {
   "cell_type": "code",
   "execution_count": 22,
   "metadata": {},
   "outputs": [
    {
     "output_type": "execute_result",
     "data": {
      "text/plain": [
       "    alpha      error\n",
       "15   0.16 -19.275948"
      ],
      "text/html": "<div>\n<style scoped>\n    .dataframe tbody tr th:only-of-type {\n        vertical-align: middle;\n    }\n\n    .dataframe tbody tr th {\n        vertical-align: top;\n    }\n\n    .dataframe thead th {\n        text-align: right;\n    }\n</style>\n<table border=\"1\" class=\"dataframe\">\n  <thead>\n    <tr style=\"text-align: right;\">\n      <th></th>\n      <th>alpha</th>\n      <th>error</th>\n    </tr>\n  </thead>\n  <tbody>\n    <tr>\n      <th>15</th>\n      <td>0.16</td>\n      <td>-19.275948</td>\n    </tr>\n  </tbody>\n</table>\n</div>"
     },
     "metadata": {},
     "execution_count": 22
    },
    {
     "output_type": "display_data",
     "data": {
      "text/plain": "<Figure size 432x288 with 1 Axes>",
      "image/svg+xml": "<?xml version=\"1.0\" encoding=\"utf-8\" standalone=\"no\"?>\r\n<!DOCTYPE svg PUBLIC \"-//W3C//DTD SVG 1.1//EN\"\r\n  \"http://www.w3.org/Graphics/SVG/1.1/DTD/svg11.dtd\">\r\n<!-- Created with matplotlib (https://matplotlib.org/) -->\r\n<svg height=\"248.518125pt\" version=\"1.1\" viewBox=\"0 0 393.207813 248.518125\" width=\"393.207813pt\" xmlns=\"http://www.w3.org/2000/svg\" xmlns:xlink=\"http://www.w3.org/1999/xlink\">\r\n <metadata>\r\n  <rdf:RDF xmlns:cc=\"http://creativecommons.org/ns#\" xmlns:dc=\"http://purl.org/dc/elements/1.1/\" xmlns:rdf=\"http://www.w3.org/1999/02/22-rdf-syntax-ns#\">\r\n   <cc:Work>\r\n    <dc:type rdf:resource=\"http://purl.org/dc/dcmitype/StillImage\"/>\r\n    <dc:date>2021-02-19T21:29:46.766643</dc:date>\r\n    <dc:format>image/svg+xml</dc:format>\r\n    <dc:creator>\r\n     <cc:Agent>\r\n      <dc:title>Matplotlib v3.3.3, https://matplotlib.org/</dc:title>\r\n     </cc:Agent>\r\n    </dc:creator>\r\n   </cc:Work>\r\n  </rdf:RDF>\r\n </metadata>\r\n <defs>\r\n  <style type=\"text/css\">*{stroke-linecap:butt;stroke-linejoin:round;}</style>\r\n </defs>\r\n <g id=\"figure_1\">\r\n  <g id=\"patch_1\">\r\n   <path d=\"M 0 248.518125 \r\nL 393.207813 248.518125 \r\nL 393.207813 0 \r\nL 0 0 \r\nz\r\n\" style=\"fill:none;\"/>\r\n  </g>\r\n  <g id=\"axes_1\">\r\n   <g id=\"patch_2\">\r\n    <path d=\"M 51.207813 224.64 \r\nL 386.007812 224.64 \r\nL 386.007812 7.2 \r\nL 51.207813 7.2 \r\nz\r\n\" style=\"fill:#ffffff;\"/>\r\n   </g>\r\n   <g id=\"matplotlib.axis_1\">\r\n    <g id=\"xtick_1\">\r\n     <g id=\"line2d_1\">\r\n      <defs>\r\n       <path d=\"M 0 0 \r\nL 0 3.5 \r\n\" id=\"mb42642bdf2\" style=\"stroke:#000000;stroke-width:0.8;\"/>\r\n      </defs>\r\n      <g>\r\n       <use style=\"stroke:#000000;stroke-width:0.8;\" x=\"63.320243\" xlink:href=\"#mb42642bdf2\" y=\"224.64\"/>\r\n      </g>\r\n     </g>\r\n     <g id=\"text_1\">\r\n      <!-- 0.0 -->\r\n      <g transform=\"translate(55.36868 239.238438)scale(0.1 -0.1)\">\r\n       <defs>\r\n        <path d=\"M 31.78125 66.40625 \r\nQ 24.171875 66.40625 20.328125 58.90625 \r\nQ 16.5 51.421875 16.5 36.375 \r\nQ 16.5 21.390625 20.328125 13.890625 \r\nQ 24.171875 6.390625 31.78125 6.390625 \r\nQ 39.453125 6.390625 43.28125 13.890625 \r\nQ 47.125 21.390625 47.125 36.375 \r\nQ 47.125 51.421875 43.28125 58.90625 \r\nQ 39.453125 66.40625 31.78125 66.40625 \r\nz\r\nM 31.78125 74.21875 \r\nQ 44.046875 74.21875 50.515625 64.515625 \r\nQ 56.984375 54.828125 56.984375 36.375 \r\nQ 56.984375 17.96875 50.515625 8.265625 \r\nQ 44.046875 -1.421875 31.78125 -1.421875 \r\nQ 19.53125 -1.421875 13.0625 8.265625 \r\nQ 6.59375 17.96875 6.59375 36.375 \r\nQ 6.59375 54.828125 13.0625 64.515625 \r\nQ 19.53125 74.21875 31.78125 74.21875 \r\nz\r\n\" id=\"DejaVuSans-48\"/>\r\n        <path d=\"M 10.6875 12.40625 \r\nL 21 12.40625 \r\nL 21 0 \r\nL 10.6875 0 \r\nz\r\n\" id=\"DejaVuSans-46\"/>\r\n       </defs>\r\n       <use xlink:href=\"#DejaVuSans-48\"/>\r\n       <use x=\"63.623047\" xlink:href=\"#DejaVuSans-46\"/>\r\n       <use x=\"95.410156\" xlink:href=\"#DejaVuSans-48\"/>\r\n      </g>\r\n     </g>\r\n    </g>\r\n    <g id=\"xtick_2\">\r\n     <g id=\"line2d_2\">\r\n      <g>\r\n       <use style=\"stroke:#000000;stroke-width:0.8;\" x=\"125.435271\" xlink:href=\"#mb42642bdf2\" y=\"224.64\"/>\r\n      </g>\r\n     </g>\r\n     <g id=\"text_2\">\r\n      <!-- 0.2 -->\r\n      <g transform=\"translate(117.483708 239.238438)scale(0.1 -0.1)\">\r\n       <defs>\r\n        <path d=\"M 19.1875 8.296875 \r\nL 53.609375 8.296875 \r\nL 53.609375 0 \r\nL 7.328125 0 \r\nL 7.328125 8.296875 \r\nQ 12.9375 14.109375 22.625 23.890625 \r\nQ 32.328125 33.6875 34.8125 36.53125 \r\nQ 39.546875 41.84375 41.421875 45.53125 \r\nQ 43.3125 49.21875 43.3125 52.78125 \r\nQ 43.3125 58.59375 39.234375 62.25 \r\nQ 35.15625 65.921875 28.609375 65.921875 \r\nQ 23.96875 65.921875 18.8125 64.3125 \r\nQ 13.671875 62.703125 7.8125 59.421875 \r\nL 7.8125 69.390625 \r\nQ 13.765625 71.78125 18.9375 73 \r\nQ 24.125 74.21875 28.421875 74.21875 \r\nQ 39.75 74.21875 46.484375 68.546875 \r\nQ 53.21875 62.890625 53.21875 53.421875 \r\nQ 53.21875 48.921875 51.53125 44.890625 \r\nQ 49.859375 40.875 45.40625 35.40625 \r\nQ 44.1875 33.984375 37.640625 27.21875 \r\nQ 31.109375 20.453125 19.1875 8.296875 \r\nz\r\n\" id=\"DejaVuSans-50\"/>\r\n       </defs>\r\n       <use xlink:href=\"#DejaVuSans-48\"/>\r\n       <use x=\"63.623047\" xlink:href=\"#DejaVuSans-46\"/>\r\n       <use x=\"95.410156\" xlink:href=\"#DejaVuSans-50\"/>\r\n      </g>\r\n     </g>\r\n    </g>\r\n    <g id=\"xtick_3\">\r\n     <g id=\"line2d_3\">\r\n      <g>\r\n       <use style=\"stroke:#000000;stroke-width:0.8;\" x=\"187.550299\" xlink:href=\"#mb42642bdf2\" y=\"224.64\"/>\r\n      </g>\r\n     </g>\r\n     <g id=\"text_3\">\r\n      <!-- 0.4 -->\r\n      <g transform=\"translate(179.598736 239.238438)scale(0.1 -0.1)\">\r\n       <defs>\r\n        <path d=\"M 37.796875 64.3125 \r\nL 12.890625 25.390625 \r\nL 37.796875 25.390625 \r\nz\r\nM 35.203125 72.90625 \r\nL 47.609375 72.90625 \r\nL 47.609375 25.390625 \r\nL 58.015625 25.390625 \r\nL 58.015625 17.1875 \r\nL 47.609375 17.1875 \r\nL 47.609375 0 \r\nL 37.796875 0 \r\nL 37.796875 17.1875 \r\nL 4.890625 17.1875 \r\nL 4.890625 26.703125 \r\nz\r\n\" id=\"DejaVuSans-52\"/>\r\n       </defs>\r\n       <use xlink:href=\"#DejaVuSans-48\"/>\r\n       <use x=\"63.623047\" xlink:href=\"#DejaVuSans-46\"/>\r\n       <use x=\"95.410156\" xlink:href=\"#DejaVuSans-52\"/>\r\n      </g>\r\n     </g>\r\n    </g>\r\n    <g id=\"xtick_4\">\r\n     <g id=\"line2d_4\">\r\n      <g>\r\n       <use style=\"stroke:#000000;stroke-width:0.8;\" x=\"249.665326\" xlink:href=\"#mb42642bdf2\" y=\"224.64\"/>\r\n      </g>\r\n     </g>\r\n     <g id=\"text_4\">\r\n      <!-- 0.6 -->\r\n      <g transform=\"translate(241.713764 239.238438)scale(0.1 -0.1)\">\r\n       <defs>\r\n        <path d=\"M 33.015625 40.375 \r\nQ 26.375 40.375 22.484375 35.828125 \r\nQ 18.609375 31.296875 18.609375 23.390625 \r\nQ 18.609375 15.53125 22.484375 10.953125 \r\nQ 26.375 6.390625 33.015625 6.390625 \r\nQ 39.65625 6.390625 43.53125 10.953125 \r\nQ 47.40625 15.53125 47.40625 23.390625 \r\nQ 47.40625 31.296875 43.53125 35.828125 \r\nQ 39.65625 40.375 33.015625 40.375 \r\nz\r\nM 52.59375 71.296875 \r\nL 52.59375 62.3125 \r\nQ 48.875 64.0625 45.09375 64.984375 \r\nQ 41.3125 65.921875 37.59375 65.921875 \r\nQ 27.828125 65.921875 22.671875 59.328125 \r\nQ 17.53125 52.734375 16.796875 39.40625 \r\nQ 19.671875 43.65625 24.015625 45.921875 \r\nQ 28.375 48.1875 33.59375 48.1875 \r\nQ 44.578125 48.1875 50.953125 41.515625 \r\nQ 57.328125 34.859375 57.328125 23.390625 \r\nQ 57.328125 12.15625 50.6875 5.359375 \r\nQ 44.046875 -1.421875 33.015625 -1.421875 \r\nQ 20.359375 -1.421875 13.671875 8.265625 \r\nQ 6.984375 17.96875 6.984375 36.375 \r\nQ 6.984375 53.65625 15.1875 63.9375 \r\nQ 23.390625 74.21875 37.203125 74.21875 \r\nQ 40.921875 74.21875 44.703125 73.484375 \r\nQ 48.484375 72.75 52.59375 71.296875 \r\nz\r\n\" id=\"DejaVuSans-54\"/>\r\n       </defs>\r\n       <use xlink:href=\"#DejaVuSans-48\"/>\r\n       <use x=\"63.623047\" xlink:href=\"#DejaVuSans-46\"/>\r\n       <use x=\"95.410156\" xlink:href=\"#DejaVuSans-54\"/>\r\n      </g>\r\n     </g>\r\n    </g>\r\n    <g id=\"xtick_5\">\r\n     <g id=\"line2d_5\">\r\n      <g>\r\n       <use style=\"stroke:#000000;stroke-width:0.8;\" x=\"311.780354\" xlink:href=\"#mb42642bdf2\" y=\"224.64\"/>\r\n      </g>\r\n     </g>\r\n     <g id=\"text_5\">\r\n      <!-- 0.8 -->\r\n      <g transform=\"translate(303.828792 239.238438)scale(0.1 -0.1)\">\r\n       <defs>\r\n        <path d=\"M 31.78125 34.625 \r\nQ 24.75 34.625 20.71875 30.859375 \r\nQ 16.703125 27.09375 16.703125 20.515625 \r\nQ 16.703125 13.921875 20.71875 10.15625 \r\nQ 24.75 6.390625 31.78125 6.390625 \r\nQ 38.8125 6.390625 42.859375 10.171875 \r\nQ 46.921875 13.96875 46.921875 20.515625 \r\nQ 46.921875 27.09375 42.890625 30.859375 \r\nQ 38.875 34.625 31.78125 34.625 \r\nz\r\nM 21.921875 38.8125 \r\nQ 15.578125 40.375 12.03125 44.71875 \r\nQ 8.5 49.078125 8.5 55.328125 \r\nQ 8.5 64.0625 14.71875 69.140625 \r\nQ 20.953125 74.21875 31.78125 74.21875 \r\nQ 42.671875 74.21875 48.875 69.140625 \r\nQ 55.078125 64.0625 55.078125 55.328125 \r\nQ 55.078125 49.078125 51.53125 44.71875 \r\nQ 48 40.375 41.703125 38.8125 \r\nQ 48.828125 37.15625 52.796875 32.3125 \r\nQ 56.78125 27.484375 56.78125 20.515625 \r\nQ 56.78125 9.90625 50.3125 4.234375 \r\nQ 43.84375 -1.421875 31.78125 -1.421875 \r\nQ 19.734375 -1.421875 13.25 4.234375 \r\nQ 6.78125 9.90625 6.78125 20.515625 \r\nQ 6.78125 27.484375 10.78125 32.3125 \r\nQ 14.796875 37.15625 21.921875 38.8125 \r\nz\r\nM 18.3125 54.390625 \r\nQ 18.3125 48.734375 21.84375 45.5625 \r\nQ 25.390625 42.390625 31.78125 42.390625 \r\nQ 38.140625 42.390625 41.71875 45.5625 \r\nQ 45.3125 48.734375 45.3125 54.390625 \r\nQ 45.3125 60.0625 41.71875 63.234375 \r\nQ 38.140625 66.40625 31.78125 66.40625 \r\nQ 25.390625 66.40625 21.84375 63.234375 \r\nQ 18.3125 60.0625 18.3125 54.390625 \r\nz\r\n\" id=\"DejaVuSans-56\"/>\r\n       </defs>\r\n       <use xlink:href=\"#DejaVuSans-48\"/>\r\n       <use x=\"63.623047\" xlink:href=\"#DejaVuSans-46\"/>\r\n       <use x=\"95.410156\" xlink:href=\"#DejaVuSans-56\"/>\r\n      </g>\r\n     </g>\r\n    </g>\r\n    <g id=\"xtick_6\">\r\n     <g id=\"line2d_6\">\r\n      <g>\r\n       <use style=\"stroke:#000000;stroke-width:0.8;\" x=\"373.895382\" xlink:href=\"#mb42642bdf2\" y=\"224.64\"/>\r\n      </g>\r\n     </g>\r\n     <g id=\"text_6\">\r\n      <!-- 1.0 -->\r\n      <g transform=\"translate(365.94382 239.238438)scale(0.1 -0.1)\">\r\n       <defs>\r\n        <path d=\"M 12.40625 8.296875 \r\nL 28.515625 8.296875 \r\nL 28.515625 63.921875 \r\nL 10.984375 60.40625 \r\nL 10.984375 69.390625 \r\nL 28.421875 72.90625 \r\nL 38.28125 72.90625 \r\nL 38.28125 8.296875 \r\nL 54.390625 8.296875 \r\nL 54.390625 0 \r\nL 12.40625 0 \r\nz\r\n\" id=\"DejaVuSans-49\"/>\r\n       </defs>\r\n       <use xlink:href=\"#DejaVuSans-49\"/>\r\n       <use x=\"63.623047\" xlink:href=\"#DejaVuSans-46\"/>\r\n       <use x=\"95.410156\" xlink:href=\"#DejaVuSans-48\"/>\r\n      </g>\r\n     </g>\r\n    </g>\r\n   </g>\r\n   <g id=\"matplotlib.axis_2\">\r\n    <g id=\"ytick_1\">\r\n     <g id=\"line2d_7\">\r\n      <defs>\r\n       <path d=\"M 0 0 \r\nL -3.5 0 \r\n\" id=\"m2a753adee7\" style=\"stroke:#000000;stroke-width:0.8;\"/>\r\n      </defs>\r\n      <g>\r\n       <use style=\"stroke:#000000;stroke-width:0.8;\" x=\"51.207813\" xlink:href=\"#m2a753adee7\" y=\"206.686169\"/>\r\n      </g>\r\n     </g>\r\n     <g id=\"text_7\">\r\n      <!-- −21.00 -->\r\n      <g transform=\"translate(7.2 210.485388)scale(0.1 -0.1)\">\r\n       <defs>\r\n        <path d=\"M 10.59375 35.5 \r\nL 73.1875 35.5 \r\nL 73.1875 27.203125 \r\nL 10.59375 27.203125 \r\nz\r\n\" id=\"DejaVuSans-8722\"/>\r\n       </defs>\r\n       <use xlink:href=\"#DejaVuSans-8722\"/>\r\n       <use x=\"83.789062\" xlink:href=\"#DejaVuSans-50\"/>\r\n       <use x=\"147.412109\" xlink:href=\"#DejaVuSans-49\"/>\r\n       <use x=\"211.035156\" xlink:href=\"#DejaVuSans-46\"/>\r\n       <use x=\"242.822266\" xlink:href=\"#DejaVuSans-48\"/>\r\n       <use x=\"306.445312\" xlink:href=\"#DejaVuSans-48\"/>\r\n      </g>\r\n     </g>\r\n    </g>\r\n    <g id=\"ytick_2\">\r\n     <g id=\"line2d_8\">\r\n      <g>\r\n       <use style=\"stroke:#000000;stroke-width:0.8;\" x=\"51.207813\" xlink:href=\"#m2a753adee7\" y=\"179.192433\"/>\r\n      </g>\r\n     </g>\r\n     <g id=\"text_8\">\r\n      <!-- −20.75 -->\r\n      <g transform=\"translate(7.2 182.991652)scale(0.1 -0.1)\">\r\n       <defs>\r\n        <path d=\"M 8.203125 72.90625 \r\nL 55.078125 72.90625 \r\nL 55.078125 68.703125 \r\nL 28.609375 0 \r\nL 18.3125 0 \r\nL 43.21875 64.59375 \r\nL 8.203125 64.59375 \r\nz\r\n\" id=\"DejaVuSans-55\"/>\r\n        <path d=\"M 10.796875 72.90625 \r\nL 49.515625 72.90625 \r\nL 49.515625 64.59375 \r\nL 19.828125 64.59375 \r\nL 19.828125 46.734375 \r\nQ 21.96875 47.46875 24.109375 47.828125 \r\nQ 26.265625 48.1875 28.421875 48.1875 \r\nQ 40.625 48.1875 47.75 41.5 \r\nQ 54.890625 34.8125 54.890625 23.390625 \r\nQ 54.890625 11.625 47.5625 5.09375 \r\nQ 40.234375 -1.421875 26.90625 -1.421875 \r\nQ 22.3125 -1.421875 17.546875 -0.640625 \r\nQ 12.796875 0.140625 7.71875 1.703125 \r\nL 7.71875 11.625 \r\nQ 12.109375 9.234375 16.796875 8.0625 \r\nQ 21.484375 6.890625 26.703125 6.890625 \r\nQ 35.15625 6.890625 40.078125 11.328125 \r\nQ 45.015625 15.765625 45.015625 23.390625 \r\nQ 45.015625 31 40.078125 35.4375 \r\nQ 35.15625 39.890625 26.703125 39.890625 \r\nQ 22.75 39.890625 18.8125 39.015625 \r\nQ 14.890625 38.140625 10.796875 36.28125 \r\nz\r\n\" id=\"DejaVuSans-53\"/>\r\n       </defs>\r\n       <use xlink:href=\"#DejaVuSans-8722\"/>\r\n       <use x=\"83.789062\" xlink:href=\"#DejaVuSans-50\"/>\r\n       <use x=\"147.412109\" xlink:href=\"#DejaVuSans-48\"/>\r\n       <use x=\"211.035156\" xlink:href=\"#DejaVuSans-46\"/>\r\n       <use x=\"242.822266\" xlink:href=\"#DejaVuSans-55\"/>\r\n       <use x=\"306.445312\" xlink:href=\"#DejaVuSans-53\"/>\r\n      </g>\r\n     </g>\r\n    </g>\r\n    <g id=\"ytick_3\">\r\n     <g id=\"line2d_9\">\r\n      <g>\r\n       <use style=\"stroke:#000000;stroke-width:0.8;\" x=\"51.207813\" xlink:href=\"#m2a753adee7\" y=\"151.698697\"/>\r\n      </g>\r\n     </g>\r\n     <g id=\"text_9\">\r\n      <!-- −20.50 -->\r\n      <g transform=\"translate(7.2 155.497916)scale(0.1 -0.1)\">\r\n       <use xlink:href=\"#DejaVuSans-8722\"/>\r\n       <use x=\"83.789062\" xlink:href=\"#DejaVuSans-50\"/>\r\n       <use x=\"147.412109\" xlink:href=\"#DejaVuSans-48\"/>\r\n       <use x=\"211.035156\" xlink:href=\"#DejaVuSans-46\"/>\r\n       <use x=\"242.822266\" xlink:href=\"#DejaVuSans-53\"/>\r\n       <use x=\"306.445312\" xlink:href=\"#DejaVuSans-48\"/>\r\n      </g>\r\n     </g>\r\n    </g>\r\n    <g id=\"ytick_4\">\r\n     <g id=\"line2d_10\">\r\n      <g>\r\n       <use style=\"stroke:#000000;stroke-width:0.8;\" x=\"51.207813\" xlink:href=\"#m2a753adee7\" y=\"124.204961\"/>\r\n      </g>\r\n     </g>\r\n     <g id=\"text_10\">\r\n      <!-- −20.25 -->\r\n      <g transform=\"translate(7.2 128.00418)scale(0.1 -0.1)\">\r\n       <use xlink:href=\"#DejaVuSans-8722\"/>\r\n       <use x=\"83.789062\" xlink:href=\"#DejaVuSans-50\"/>\r\n       <use x=\"147.412109\" xlink:href=\"#DejaVuSans-48\"/>\r\n       <use x=\"211.035156\" xlink:href=\"#DejaVuSans-46\"/>\r\n       <use x=\"242.822266\" xlink:href=\"#DejaVuSans-50\"/>\r\n       <use x=\"306.445312\" xlink:href=\"#DejaVuSans-53\"/>\r\n      </g>\r\n     </g>\r\n    </g>\r\n    <g id=\"ytick_5\">\r\n     <g id=\"line2d_11\">\r\n      <g>\r\n       <use style=\"stroke:#000000;stroke-width:0.8;\" x=\"51.207813\" xlink:href=\"#m2a753adee7\" y=\"96.711225\"/>\r\n      </g>\r\n     </g>\r\n     <g id=\"text_11\">\r\n      <!-- −20.00 -->\r\n      <g transform=\"translate(7.2 100.510443)scale(0.1 -0.1)\">\r\n       <use xlink:href=\"#DejaVuSans-8722\"/>\r\n       <use x=\"83.789062\" xlink:href=\"#DejaVuSans-50\"/>\r\n       <use x=\"147.412109\" xlink:href=\"#DejaVuSans-48\"/>\r\n       <use x=\"211.035156\" xlink:href=\"#DejaVuSans-46\"/>\r\n       <use x=\"242.822266\" xlink:href=\"#DejaVuSans-48\"/>\r\n       <use x=\"306.445312\" xlink:href=\"#DejaVuSans-48\"/>\r\n      </g>\r\n     </g>\r\n    </g>\r\n    <g id=\"ytick_6\">\r\n     <g id=\"line2d_12\">\r\n      <g>\r\n       <use style=\"stroke:#000000;stroke-width:0.8;\" x=\"51.207813\" xlink:href=\"#m2a753adee7\" y=\"69.217488\"/>\r\n      </g>\r\n     </g>\r\n     <g id=\"text_12\">\r\n      <!-- −19.75 -->\r\n      <g transform=\"translate(7.2 73.016707)scale(0.1 -0.1)\">\r\n       <defs>\r\n        <path d=\"M 10.984375 1.515625 \r\nL 10.984375 10.5 \r\nQ 14.703125 8.734375 18.5 7.8125 \r\nQ 22.3125 6.890625 25.984375 6.890625 \r\nQ 35.75 6.890625 40.890625 13.453125 \r\nQ 46.046875 20.015625 46.78125 33.40625 \r\nQ 43.953125 29.203125 39.59375 26.953125 \r\nQ 35.25 24.703125 29.984375 24.703125 \r\nQ 19.046875 24.703125 12.671875 31.3125 \r\nQ 6.296875 37.9375 6.296875 49.421875 \r\nQ 6.296875 60.640625 12.9375 67.421875 \r\nQ 19.578125 74.21875 30.609375 74.21875 \r\nQ 43.265625 74.21875 49.921875 64.515625 \r\nQ 56.59375 54.828125 56.59375 36.375 \r\nQ 56.59375 19.140625 48.40625 8.859375 \r\nQ 40.234375 -1.421875 26.421875 -1.421875 \r\nQ 22.703125 -1.421875 18.890625 -0.6875 \r\nQ 15.09375 0.046875 10.984375 1.515625 \r\nz\r\nM 30.609375 32.421875 \r\nQ 37.25 32.421875 41.125 36.953125 \r\nQ 45.015625 41.5 45.015625 49.421875 \r\nQ 45.015625 57.28125 41.125 61.84375 \r\nQ 37.25 66.40625 30.609375 66.40625 \r\nQ 23.96875 66.40625 20.09375 61.84375 \r\nQ 16.21875 57.28125 16.21875 49.421875 \r\nQ 16.21875 41.5 20.09375 36.953125 \r\nQ 23.96875 32.421875 30.609375 32.421875 \r\nz\r\n\" id=\"DejaVuSans-57\"/>\r\n       </defs>\r\n       <use xlink:href=\"#DejaVuSans-8722\"/>\r\n       <use x=\"83.789062\" xlink:href=\"#DejaVuSans-49\"/>\r\n       <use x=\"147.412109\" xlink:href=\"#DejaVuSans-57\"/>\r\n       <use x=\"211.035156\" xlink:href=\"#DejaVuSans-46\"/>\r\n       <use x=\"242.822266\" xlink:href=\"#DejaVuSans-55\"/>\r\n       <use x=\"306.445312\" xlink:href=\"#DejaVuSans-53\"/>\r\n      </g>\r\n     </g>\r\n    </g>\r\n    <g id=\"ytick_7\">\r\n     <g id=\"line2d_13\">\r\n      <g>\r\n       <use style=\"stroke:#000000;stroke-width:0.8;\" x=\"51.207813\" xlink:href=\"#m2a753adee7\" y=\"41.723752\"/>\r\n      </g>\r\n     </g>\r\n     <g id=\"text_13\">\r\n      <!-- −19.50 -->\r\n      <g transform=\"translate(7.2 45.522971)scale(0.1 -0.1)\">\r\n       <use xlink:href=\"#DejaVuSans-8722\"/>\r\n       <use x=\"83.789062\" xlink:href=\"#DejaVuSans-49\"/>\r\n       <use x=\"147.412109\" xlink:href=\"#DejaVuSans-57\"/>\r\n       <use x=\"211.035156\" xlink:href=\"#DejaVuSans-46\"/>\r\n       <use x=\"242.822266\" xlink:href=\"#DejaVuSans-53\"/>\r\n       <use x=\"306.445312\" xlink:href=\"#DejaVuSans-48\"/>\r\n      </g>\r\n     </g>\r\n    </g>\r\n    <g id=\"ytick_8\">\r\n     <g id=\"line2d_14\">\r\n      <g>\r\n       <use style=\"stroke:#000000;stroke-width:0.8;\" x=\"51.207813\" xlink:href=\"#m2a753adee7\" y=\"14.230016\"/>\r\n      </g>\r\n     </g>\r\n     <g id=\"text_14\">\r\n      <!-- −19.25 -->\r\n      <g transform=\"translate(7.2 18.029235)scale(0.1 -0.1)\">\r\n       <use xlink:href=\"#DejaVuSans-8722\"/>\r\n       <use x=\"83.789062\" xlink:href=\"#DejaVuSans-49\"/>\r\n       <use x=\"147.412109\" xlink:href=\"#DejaVuSans-57\"/>\r\n       <use x=\"211.035156\" xlink:href=\"#DejaVuSans-46\"/>\r\n       <use x=\"242.822266\" xlink:href=\"#DejaVuSans-50\"/>\r\n       <use x=\"306.445312\" xlink:href=\"#DejaVuSans-53\"/>\r\n      </g>\r\n     </g>\r\n    </g>\r\n   </g>\r\n   <g id=\"line2d_15\">\r\n    <path clip-path=\"url(#pefb4e6fd38)\" d=\"M 66.425994 130.208325 \r\nL 69.531746 87.274844 \r\nL 72.637497 62.584522 \r\nL 75.743248 46.457962 \r\nL 78.849 40.542288 \r\nL 81.954751 36.969211 \r\nL 85.060503 32.50443 \r\nL 88.166254 28.365952 \r\nL 91.272005 24.616298 \r\nL 94.377757 22.460893 \r\nL 97.483508 21.211218 \r\nL 100.58926 19.247328 \r\nL 103.695011 18.393947 \r\nL 106.800762 19.034024 \r\nL 109.906514 18.353042 \r\nL 113.012265 17.083636 \r\nL 116.118017 17.227887 \r\nL 119.223768 17.93523 \r\nL 122.329519 18.495631 \r\nL 125.435271 19.052261 \r\nL 128.541022 19.965037 \r\nL 131.646774 20.553274 \r\nL 134.752525 21.317858 \r\nL 137.858276 23.221989 \r\nL 140.964028 25.581172 \r\nL 144.069779 28.461835 \r\nL 147.17553 30.657773 \r\nL 150.281282 32.509553 \r\nL 153.387033 34.270208 \r\nL 156.492785 36.504214 \r\nL 159.598536 38.837774 \r\nL 162.704287 40.829443 \r\nL 165.810039 42.797932 \r\nL 168.91579 44.647881 \r\nL 172.021542 46.813113 \r\nL 175.127293 49.015468 \r\nL 178.233044 51.429561 \r\nL 181.338796 53.851235 \r\nL 184.444547 56.314431 \r\nL 187.550299 59.05049 \r\nL 190.65605 61.833225 \r\nL 193.761801 64.660504 \r\nL 196.867553 67.507743 \r\nL 199.973304 70.443411 \r\nL 203.079056 73.501443 \r\nL 206.184807 76.561857 \r\nL 209.290558 79.664526 \r\nL 212.39631 82.413746 \r\nL 215.502061 84.956796 \r\nL 218.607813 87.351153 \r\nL 221.713564 89.782714 \r\nL 224.819315 91.948239 \r\nL 227.925067 94.142474 \r\nL 231.030818 96.362005 \r\nL 234.136569 98.695633 \r\nL 237.242321 101.15917 \r\nL 240.348072 103.713016 \r\nL 243.453824 106.361248 \r\nL 246.559575 109.307731 \r\nL 249.665326 112.342971 \r\nL 252.771078 115.4676 \r\nL 255.876829 118.611905 \r\nL 258.982581 121.582877 \r\nL 262.088332 124.464344 \r\nL 265.194083 127.249185 \r\nL 268.299835 129.732752 \r\nL 271.405586 132.200037 \r\nL 274.511338 134.735104 \r\nL 277.617089 137.270176 \r\nL 280.72284 139.802378 \r\nL 283.828592 142.340313 \r\nL 286.934343 144.956332 \r\nL 290.040095 147.620803 \r\nL 293.145846 150.296616 \r\nL 296.251597 152.994036 \r\nL 299.357349 155.748731 \r\nL 302.4631 158.328778 \r\nL 305.568851 160.911969 \r\nL 308.674603 163.546686 \r\nL 311.780354 166.208684 \r\nL 314.886106 168.870349 \r\nL 317.991857 171.482066 \r\nL 321.097608 173.989012 \r\nL 324.20336 176.497851 \r\nL 327.309111 179.054548 \r\nL 330.414863 181.611251 \r\nL 333.520614 184.150171 \r\nL 336.626365 186.652681 \r\nL 339.732117 189.143491 \r\nL 342.837868 191.653727 \r\nL 345.94362 194.16395 \r\nL 349.049371 196.674153 \r\nL 352.155122 199.194892 \r\nL 355.260874 201.738372 \r\nL 358.366625 204.284059 \r\nL 361.472377 206.882657 \r\nL 364.578128 209.509274 \r\nL 367.683879 212.132801 \r\nL 370.789631 214.756364 \r\n\" style=\"fill:none;stroke:#1f77b4;stroke-linecap:square;stroke-width:1.5;\"/>\r\n   </g>\r\n   <g id=\"patch_3\">\r\n    <path d=\"M 51.207813 224.64 \r\nL 51.207813 7.2 \r\n\" style=\"fill:none;stroke:#000000;stroke-linecap:square;stroke-linejoin:miter;stroke-width:0.8;\"/>\r\n   </g>\r\n   <g id=\"patch_4\">\r\n    <path d=\"M 386.007812 224.64 \r\nL 386.007812 7.2 \r\n\" style=\"fill:none;stroke:#000000;stroke-linecap:square;stroke-linejoin:miter;stroke-width:0.8;\"/>\r\n   </g>\r\n   <g id=\"patch_5\">\r\n    <path d=\"M 51.207813 224.64 \r\nL 386.007813 224.64 \r\n\" style=\"fill:none;stroke:#000000;stroke-linecap:square;stroke-linejoin:miter;stroke-width:0.8;\"/>\r\n   </g>\r\n   <g id=\"patch_6\">\r\n    <path d=\"M 51.207813 7.2 \r\nL 386.007813 7.2 \r\n\" style=\"fill:none;stroke:#000000;stroke-linecap:square;stroke-linejoin:miter;stroke-width:0.8;\"/>\r\n   </g>\r\n  </g>\r\n </g>\r\n <defs>\r\n  <clipPath id=\"pefb4e6fd38\">\r\n   <rect height=\"217.44\" width=\"334.8\" x=\"51.207813\" y=\"7.2\"/>\r\n  </clipPath>\r\n </defs>\r\n</svg>\r\n",
      "image/png": "[encoded data removed]"
     },
     "metadata": {
      "needs_background": "light"
     }
    }
   ],
   "source": [
    "# Lasso Regression\n",
    "ln_l = Lasso(alpha=.13)\n",
    "ln_l.fit(X_train, y_train)\n",
    "np.mean(cross_val_score(ln_l, X_train, y_train, scoring = 'neg_mean_absolute_error', cv=3))\n",
    "\n",
    "alpha = []\n",
    "error = []\n",
    "for i in range(1,100):\n",
    "    alpha.append(i/100)\n",
    "    lnl=Lasso(alpha=(i/100))\n",
    "    error.append(np.mean(cross_val_score(lnl, X_train, y_train, scoring = 'neg_mean_absolute_error', cv=3)))\n",
    "plt.plot(alpha, error)\n",
    "\n",
    "err = tuple(zip(alpha, error))\n",
    "df_err = pd.DataFrame(err, columns=['alpha', 'error'])\n",
    "df_err[df_err.error == max(df_err.error)]"
   ]
  },
  {
   "cell_type": "code",
   "execution_count": 23,
   "metadata": {},
   "outputs": [
    {
     "output_type": "execute_result",
     "data": {
      "text/plain": [
       "array([-15.9019697 , -15.0730303 , -14.07527919])"
      ]
     },
     "metadata": {},
     "execution_count": 23
    }
   ],
   "source": [
    "# Random Forest\n",
    "rf = RandomForestRegressor()\n",
    "cross_val_score(rf, X_train, y_train, scoring = 'neg_mean_absolute_error', cv=3)"
   ]
  },
  {
   "cell_type": "code",
   "execution_count": 24,
   "metadata": {},
   "outputs": [
    {
     "output_type": "execute_result",
     "data": {
      "text/plain": [
       "GridSearchCV(cv=3, estimator=RandomForestRegressor(),\n",
       "             param_grid={'criterion': ('mse', 'moe'),\n",
       "                         'max_features': ('auto', 'sqrt', 'log2'),\n",
       "                         'n_estimators': range(10, 100, 10)},\n",
       "             scoring='neg_mean_absolute_error')"
      ]
     },
     "metadata": {},
     "execution_count": 24
    }
   ],
   "source": [
    "# Tune Models GridSearchCV\n",
    "parameters={'n_estimators':range(10,100,10), 'criterion':('mse', 'moe'), 'max_features':('auto', 'sqrt', 'log2')}\n",
    "gs = GridSearchCV(rf, parameters, scoring='neg_mean_absolute_error', cv=3)\n",
    "gs.fit(X_train, y_train)"
   ]
  },
  {
   "cell_type": "code",
   "execution_count": 25,
   "metadata": {},
   "outputs": [
    {
     "output_type": "execute_result",
     "data": {
      "text/plain": [
       "-14.98601098406513"
      ]
     },
     "metadata": {},
     "execution_count": 25
    }
   ],
   "source": [
    "gs.best_score_"
   ]
  },
  {
   "cell_type": "code",
   "execution_count": 26,
   "metadata": {},
   "outputs": [
    {
     "output_type": "execute_result",
     "data": {
      "text/plain": [
       "RandomForestRegressor(n_estimators=90)"
      ]
     },
     "metadata": {},
     "execution_count": 26
    }
   ],
   "source": [
    "gs.best_estimator_"
   ]
  },
  {
   "cell_type": "code",
   "execution_count": 27,
   "metadata": {},
   "outputs": [],
   "source": [
    "# test ensembles \n",
    "tpred_ln = ln.predict(X_test)\n",
    "tpred_lnl = ln_l.predict(X_test)\n",
    "tpred_rf = gs.best_estimator_.predict(X_test)"
   ]
  },
  {
   "cell_type": "code",
   "execution_count": 28,
   "metadata": {},
   "outputs": [
    {
     "output_type": "execute_result",
     "data": {
      "text/plain": [
       "18.95072966061347"
      ]
     },
     "metadata": {},
     "execution_count": 28
    }
   ],
   "source": [
    "mean_absolute_error(y_test, tpred_ln)"
   ]
  },
  {
   "cell_type": "code",
   "execution_count": 29,
   "metadata": {},
   "outputs": [
    {
     "output_type": "execute_result",
     "data": {
      "text/plain": [
       "19.857160070210032"
      ]
     },
     "metadata": {},
     "execution_count": 29
    }
   ],
   "source": [
    "mean_absolute_error(y_test, tpred_lnl)"
   ]
  },
  {
   "cell_type": "code",
   "execution_count": 30,
   "metadata": {},
   "outputs": [
    {
     "output_type": "execute_result",
     "data": {
      "text/plain": [
       "11.077628635346755"
      ]
     },
     "metadata": {},
     "execution_count": 30
    }
   ],
   "source": [
    "mean_absolute_error(y_test, tpred_rf)"
   ]
  },
  {
   "cell_type": "code",
   "execution_count": 31,
   "metadata": {},
   "outputs": [
    {
     "output_type": "execute_result",
     "data": {
      "text/plain": [
       "14.376865197936462"
      ]
     },
     "metadata": {},
     "execution_count": 31
    }
   ],
   "source": [
    "mean_absolute_error(y_test, (tpred_ln+tpred_rf)/2)"
   ]
  },
  {
   "cell_type": "code",
   "execution_count": 32,
   "metadata": {},
   "outputs": [
    {
     "output_type": "execute_result",
     "data": {
      "text/plain": [
       "[3.6,\n",
       " 1.0,\n",
       " 0.0,\n",
       " 0.0,\n",
       " 34.0,\n",
       " 0.0,\n",
       " 0.0,\n",
       " 0.0,\n",
       " 1.0,\n",
       " 4608.0,\n",
       " 0.0,\n",
       " 0.0,\n",
       " 0.0,\n",
       " 1.0,\n",
       " 0.0,\n",
       " 0.0,\n",
       " 0.0,\n",
       " 0.0,\n",
       " 0.0,\n",
       " 0.0,\n",
       " 0.0,\n",
       " 1.0,\n",
       " 0.0,\n",
       " 0.0,\n",
       " 0.0,\n",
       " 0.0,\n",
       " 0.0,\n",
       " 0.0,\n",
       " 0.0,\n",
       " 0.0,\n",
       " 0.0,\n",
       " 0.0,\n",
       " 0.0,\n",
       " 0.0,\n",
       " 0.0,\n",
       " 0.0,\n",
       " 0.0,\n",
       " 0.0,\n",
       " 0.0,\n",
       " 0.0,\n",
       " 0.0,\n",
       " 0.0,\n",
       " 0.0,\n",
       " 0.0,\n",
       " 0.0,\n",
       " 0.0,\n",
       " 0.0,\n",
       " 0.0,\n",
       " 0.0,\n",
       " 0.0,\n",
       " 0.0,\n",
       " 0.0,\n",
       " 0.0,\n",
       " 0.0,\n",
       " 0.0,\n",
       " 1.0,\n",
       " 0.0,\n",
       " 0.0,\n",
       " 0.0,\n",
       " 0.0,\n",
       " 0.0,\n",
       " 0.0,\n",
       " 0.0,\n",
       " 0.0,\n",
       " 0.0,\n",
       " 0.0,\n",
       " 0.0,\n",
       " 0.0,\n",
       " 0.0,\n",
       " 0.0,\n",
       " 0.0,\n",
       " 0.0,\n",
       " 0.0,\n",
       " 0.0,\n",
       " 0.0,\n",
       " 0.0,\n",
       " 0.0,\n",
       " 0.0,\n",
       " 0.0,\n",
       " 0.0,\n",
       " 0.0,\n",
       " 0.0,\n",
       " 0.0,\n",
       " 0.0,\n",
       " 0.0,\n",
       " 0.0,\n",
       " 0.0,\n",
       " 0.0,\n",
       " 0.0,\n",
       " 0.0,\n",
       " 0.0,\n",
       " 0.0,\n",
       " 0.0,\n",
       " 0.0,\n",
       " 1.0,\n",
       " 0.0,\n",
       " 0.0,\n",
       " 0.0,\n",
       " 0.0,\n",
       " 0.0,\n",
       " 0.0,\n",
       " 0.0,\n",
       " 0.0,\n",
       " 0.0,\n",
       " 0.0,\n",
       " 0.0,\n",
       " 0.0,\n",
       " 0.0,\n",
       " 0.0,\n",
       " 0.0,\n",
       " 0.0,\n",
       " 0.0,\n",
       " 0.0,\n",
       " 0.0,\n",
       " 0.0,\n",
       " 0.0,\n",
       " 0.0,\n",
       " 0.0,\n",
       " 0.0,\n",
       " 1.0,\n",
       " 0.0,\n",
       " 0.0,\n",
       " 0.0,\n",
       " 0.0,\n",
       " 0.0,\n",
       " 0.0,\n",
       " 0.0,\n",
       " 0.0,\n",
       " 0.0,\n",
       " 0.0,\n",
       " 0.0,\n",
       " 1.0,\n",
       " 0.0,\n",
       " 0.0,\n",
       " 0.0,\n",
       " 0.0,\n",
       " 0.0,\n",
       " 0.0,\n",
       " 0.0,\n",
       " 0.0,\n",
       " 0.0,\n",
       " 0.0,\n",
       " 0.0,\n",
       " 0.0,\n",
       " 0.0,\n",
       " 0.0,\n",
       " 0.0,\n",
       " 0.0,\n",
       " 0.0,\n",
       " 0.0,\n",
       " 0.0,\n",
       " 0.0,\n",
       " 0.0,\n",
       " 0.0,\n",
       " 0.0,\n",
       " 0.0,\n",
       " 0.0,\n",
       " 0.0,\n",
       " 0.0,\n",
       " 0.0,\n",
       " 0.0,\n",
       " 0.0,\n",
       " 0.0,\n",
       " 0.0,\n",
       " 0.0,\n",
       " 0.0,\n",
       " 1.0,\n",
       " 0.0,\n",
       " 0.0,\n",
       " 0.0,\n",
       " 0.0,\n",
       " 0.0,\n",
       " 0.0,\n",
       " 0.0,\n",
       " 1.0,\n",
       " 0.0]"
      ]
     },
     "metadata": {},
     "execution_count": 32
    }
   ],
   "source": [
    "pickl = {'model': gs.best_estimator_}\n",
    "pickle.dump( pickl, open( 'model_file' + \".p\", \"wb\" ) )\n",
    "\n",
    "file_name = \"C:\\\\Users\\\\anny_\\\\Documents\\\\The_Glassdoor_Project\\\\FlaskAPI\\\\model\\\\model_file.p\"\n",
    "with open(file_name, 'rb') as pickled:\n",
    "    data = pickle.load(pickled)\n",
    "    model = data['model']\n",
    "\n",
    "model.predict(np.array(list(X_test.iloc[1,:])).reshape(1,-1))[0]\n",
    "\n",
    "list(X_test.iloc[1,:])"
   ]
  },
  {
   "cell_type": "code",
   "execution_count": null,
   "metadata": {},
   "outputs": [],
   "source": []
  }
 ]
}